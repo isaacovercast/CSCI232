{
 "cells": [
  {
   "cell_type": "markdown",
   "id": "seventh-dominant",
   "metadata": {},
   "source": [
    "## Python challenges\n",
    "\n",
    "This notebook includes a series of challenges to test your Python coding skills. If you get stuck, try googling for answers. If you don't understand *why* a particular answer works, try searching for the answer to that question. Revisit old tutorials from this class as needed, and finally, turn to the course chatroom for help. Best of luck."
   ]
  },
  {
   "cell_type": "code",
   "execution_count": null,
   "id": "previous-commercial",
   "metadata": {},
   "outputs": [],
   "source": [
    "# required software\n",
    "# conda install numpy pandas toyplot requests -c conda-forge"
   ]
  },
  {
   "cell_type": "code",
   "execution_count": null,
   "id": "legendary-citation",
   "metadata": {},
   "outputs": [],
   "source": [
    "import requests\n",
    "import numpy as np\n",
    "import pandas as pd\n",
    "import toyplot"
   ]
  },
  {
   "cell_type": "markdown",
   "id": "twenty-system",
   "metadata": {},
   "source": [
    "### Challenge 1: \n",
    "Execute the code cell below to see an example of how it works. \n",
    "Use markdown in the cell after the code-block to describe the function `random_words_api`. Try to be descriptive about what each step of code in this function does, and why it works. "
   ]
  },
  {
   "cell_type": "code",
   "execution_count": null,
   "id": "reduced-vietnam",
   "metadata": {},
   "outputs": [],
   "source": [
    "def random_words_api(nwords=10):\n",
    "    \"no docstring\"\n",
    "    URL = \"https://random-word-api.herokuapp.com/word\"\n",
    "    response = requests.get(url=URL, params={\"number\": nwords})\n",
    "    return response.json()\n",
    "\n",
    "# demonstration\n",
    "random_words_api(5)"
   ]
  },
  {
   "cell_type": "markdown",
   "id": "recent-difficulty",
   "metadata": {},
   "source": [
    "**Description:** ..."
   ]
  },
  {
   "cell_type": "markdown",
   "id": "elect-camcorder",
   "metadata": {},
   "source": [
    "### Challenge 2: \n",
    "Use the `random_words_api` function to get 50 random words and store the result as a variable. Write a function that takes the list of words as input and returns a dictionary with the longest word as the key and the length of the longest word as a value. If there is a tie in the length of words then have it return additional words as keys with their lengths as values."
   ]
  },
  {
   "cell_type": "code",
   "execution_count": null,
   "id": "oriental-aruba",
   "metadata": {},
   "outputs": [],
   "source": []
  },
  {
   "cell_type": "markdown",
   "id": "adverse-consortium",
   "metadata": {},
   "source": [
    "### Challenge 3: \n",
    "Write a function to take the list of words as input and trim all words to be at most 5 characters in length, and return as a list."
   ]
  },
  {
   "cell_type": "code",
   "execution_count": null,
   "id": "third-medline",
   "metadata": {},
   "outputs": [],
   "source": []
  },
  {
   "cell_type": "markdown",
   "id": "major-experiment",
   "metadata": {},
   "source": [
    "### Challenge 4: \n",
    "Write a function to take a list of words as input and to count the occurrence of all letters in every word and return as a dictionary mapping letters to integers., e.g., {'a': 10, 'b': 3, 'c': 5, ...}.  "
   ]
  },
  {
   "cell_type": "code",
   "execution_count": null,
   "id": "olympic-lottery",
   "metadata": {},
   "outputs": [],
   "source": []
  },
  {
   "cell_type": "markdown",
   "id": "requested-mailman",
   "metadata": {},
   "source": [
    "### Challenge 5:\n",
    "Use [toyplot](https://toyplot.readthedocs.io/en/stable/tutorial.html) to create a barplot of the occurrences of each letter in your dictionary from the previous challenge. This will represent a histogram of the letters. Play with the size and color of the figure to try to make it look nice."
   ]
  },
  {
   "cell_type": "code",
   "execution_count": null,
   "id": "independent-tyler",
   "metadata": {},
   "outputs": [],
   "source": []
  },
  {
   "cell_type": "markdown",
   "id": "furnished-harmony",
   "metadata": {},
   "source": [
    "### Challenge 6: \n",
    "Using numpy create a new variable called `arr` with 1000 random samples from a normal distribution. Use the numpy `.histogram` function to bin these values into 20 bins, and then plot the histogram using a barplot from toyplot. Color the bars of the histogram orange."
   ]
  },
  {
   "cell_type": "code",
   "execution_count": null,
   "id": "alleged-packet",
   "metadata": {},
   "outputs": [],
   "source": []
  },
  {
   "cell_type": "markdown",
   "id": "characteristic-collection",
   "metadata": {},
   "source": [
    "### Challenge 7: \n",
    "Write a `while` statement to continue running code in a loop until a condition is met, and then call `break` to end the loop. Inside of the loop, randomly draw a single value from a uniform distribution between 0 and 100. If the value is less than 25 and greater than 22 then break the loop, otherwise, continue the loop until a value meeting this condition is sampled. Use a variable to keep track of how many iterations of the loop are run, and print this value after calling `break`. \n"
   ]
  },
  {
   "cell_type": "code",
   "execution_count": null,
   "id": "hawaiian-liberty",
   "metadata": {},
   "outputs": [],
   "source": []
  },
  {
   "cell_type": "markdown",
   "id": "adolescent-joshua",
   "metadata": {},
   "source": [
    "### Challenge 8: \n",
    "Use pandas to load a CSV file from https://eaton-lab.org/data/iris-data-dirty.csv and save as a dataframe. Add custom names to the columns in the dataframe, based on the type of values in them (e.g., numeric versus strings). You can come up with any column names you want for these."
   ]
  },
  {
   "cell_type": "code",
   "execution_count": null,
   "id": "opening-ready",
   "metadata": {},
   "outputs": [],
   "source": []
  },
  {
   "cell_type": "markdown",
   "id": "lesbian-outdoors",
   "metadata": {},
   "source": [
    "### Challenge 9: \n",
    "Calculate the mean value of the data in the left-most column for all data where the right-most column matches the value \"Iris-setosa\". "
   ]
  },
  {
   "cell_type": "code",
   "execution_count": null,
   "id": "reverse-welding",
   "metadata": {},
   "outputs": [],
   "source": []
  },
  {
   "cell_type": "markdown",
   "id": "representative-voluntary",
   "metadata": {},
   "source": [
    "### Challenge 10:\n",
    "Create a copy of your iris data dataframe and name it `df2`. Sort the rows of this dataframe based on the values in the first (leftmost) column so that the lowest values are first, and the highest values at the bottom. After sorting, reset the index of the dataframe so that the index is once again ordered. Once you get this to work, try to rewrite it in a simpler form by chaining multiple function calls together to accomplish the goal in one line, by calling code that looks a bit like this, but with the correct function calls: `df.function().function().function()`"
   ]
  },
  {
   "cell_type": "code",
   "execution_count": null,
   "id": "deluxe-looking",
   "metadata": {},
   "outputs": [],
   "source": []
  },
  {
   "cell_type": "markdown",
   "id": "successful-japanese",
   "metadata": {},
   "source": [
    "### Challenge 11:\n",
    "Write a function that uses string formatting (curly braces) to create a [mad lib](https://en.wikipedia.org/wiki/Mad_Libs) containing at least 4 words that will be filled in. The returned object of your function should be a string where the missing words are filled by randomly sampled words from the `random_words_api()` function. The sentence or paragraph of your mad lib can be anything you wish, be creative. "
   ]
  },
  {
   "cell_type": "code",
   "execution_count": null,
   "id": "considered-anthropology",
   "metadata": {},
   "outputs": [],
   "source": []
  },
  {
   "cell_type": "markdown",
   "id": "found-perception",
   "metadata": {},
   "source": [
    "<div class=\"alert alert-success\">\n",
    "After completing all challenges in this notebook, save and download the .ipynb file to your computer. Move the file to your hack-program repo and put it in a folder called notebooks. Add/stage this file and folder and commit the change, and push to GitHub. The assignment is due by end of day on 3/7/2021.  \n",
    "</div>"
   ]
  }
 ],
 "metadata": {
  "kernelspec": {
   "display_name": "Python 3",
   "language": "python",
   "name": "python3"
  },
  "language_info": {
   "codemirror_mode": {
    "name": "ipython",
    "version": 3
   },
   "file_extension": ".py",
   "mimetype": "text/x-python",
   "name": "python",
   "nbconvert_exporter": "python",
   "pygments_lexer": "ipython3",
   "version": "3.8.6"
  }
 },
 "nbformat": 4,
 "nbformat_minor": 5
}
