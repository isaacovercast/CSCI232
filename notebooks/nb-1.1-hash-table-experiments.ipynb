{
 "cells": [
  {
   "cell_type": "markdown",
   "metadata": {},
   "source": [
    "# Notebook 1.1: Experimenting with Hash Tables\n",
    "\n",
    "Before completing this notebook you should have completed your assigned reading, chapters 10.2 of [Data Structures and Algorithms in Python (Goodrich, Tamassia, & Goldwasser)](https://www.wiley.com/en-us/Data+Structures+and+Algorithms+in+Python%2C+1st+Edition-p-9781118290279), which includes text about Hash Functions, Collision-Handling Schemes, & Load Factors.\n",
    "\n",
    "Storing and retrieving data is a fundamental operation in computer science. Hash tables are a very practical and efficient data structure for storing *key*:*value* pairs, and python implements this data structure with the `dict` class. As you advance in your career as a computer scientist, if you code in python you will make significant use of the python dictionaries, so it's important to understand the details of how they work.\n",
    "\n",
    "Follow along with the materials and execute code in this notebook to get a better understanding some of the basic properties of hash tables. \n"
   ]
  },
  {
   "cell_type": "code",
   "execution_count": 311,
   "metadata": {},
   "outputs": [],
   "source": [
    "# As usual, start by loading required libraries\n",
    "import matplotlib.pyplot as plt\n",
    "import numpy as np\n",
    "import sys"
   ]
  },
  {
   "cell_type": "markdown",
   "metadata": {},
   "source": [
    "## Understanding properties of 'useful' hash functions\n",
    "\n",
    "Recall from the reading that a *hash function* comprises two components:  \n",
    "- A **hash code** *h(k)* that maps a key *k* to an integer, and\n",
    "- A **compression function** that maps the hash code to an integer ([0, N-1]) for indexing into\n",
    "our bucket array (of size *N*).\n",
    "\n",
    "A very simple compression function is `mod N` (in python `% N`), and for the purpose of this exercise\n",
    "that is what we will adopt, since we are focused on hashing for the moment.\n",
    "\n",
    "Useful hash functions should strive for these properties:  \n",
    "1. They should be deterministic\n",
    "2. They should be efficient to compute\n",
    "3. They should produce uniformly distributed hash values\n",
    "\n",
    "In practice, the requirement of **determinism** is an 'iron rule' rather than a feature we can optimize over. Imagine using a hash table\n",
    "to store your contact info. If your contacts hash table implemented a non-deterministic hash function you might look up the phone number for your mother and get returned the number for your childhood best friend! Not the worst case scenario, but definitely not 'the desired effect'™.\n",
    "\n",
    "On the other hand, **efficiency** of computation and **uniformity** of distribution of hash values **are** features we can optimize over. One could imagine a very very efficient hash function with poor distribution of hash values (many collisions), or a very computationaly expensive hash code with perfect uniformity of distribution.\n",
    "\n",
    "*\"There are no solutions. There are only trade-offs.\"*  \n",
    "― Thomas Sowell, [A Conflict of Visions: Ideological Origins of Political Struggles](https://en.wikipedia.org/wiki/A_Conflict_of_Visions)\n",
    "\n",
    "In this exercise we will explore the **efficiency**/**uniformity** tradeoff for a number of different 'cartoon' hash functions, so you can get the feel for what this means."
   ]
  },
  {
   "cell_type": "markdown",
   "metadata": {},
   "source": [
    "## Set up the input data\n",
    "\n",
    "For this exercise we will use strings of text as the input data. We'll tokenize the strings (delimiting on\n",
    "whitespace), compute hash functions for each word in the string, and evaluate runtime and hash value distributions.\n",
    "We will use a couple of choice nuggets from Knuth's magnum opus [The Art of Computer Programming](https://en.wikipedia.org/wiki/The_Art_of_Computer_Programming), and also a [*Lorem ipsum*](https://en.wikipedia.org/wiki/Lorem_ipsum) generator, for longer blocks of pseudo-random text."
   ]
  },
  {
   "cell_type": "code",
   "execution_count": 278,
   "metadata": {},
   "outputs": [],
   "source": [
    "from lorem_text import lorem\n",
    "\n",
    "# The Art of Computer Programming, Vol. I\n",
    "quote1 = \"\"\"People who are more than casually interested in computers should \n",
    "have at least some idea of what the underlying hardware is like. Otherwise the programs \n",
    "they write will be pretty weird.\"\"\".split()\n",
    "\n",
    "# The Art of Computer Programming, Vol III\n",
    "quote2 = \"\"\"It is especially important to know the average behavior of a hashing method, \n",
    "because we are committed to trusting in the laws of probability whenever we hash. \n",
    "The worst case of these algorithms is almost unthinkably bad, so we need to be \n",
    "reassured that the average is very good.\"\"\".split()\n",
    "\n",
    "lorem_text = lorem.paragraphs(1).split()"
   ]
  },
  {
   "cell_type": "markdown",
   "metadata": {},
   "source": []
  },
  {
   "cell_type": "code",
   "execution_count": null,
   "metadata": {},
   "outputs": [],
   "source": []
  },
  {
   "cell_type": "code",
   "execution_count": null,
   "metadata": {},
   "outputs": [],
   "source": []
  },
  {
   "cell_type": "code",
   "execution_count": 310,
   "metadata": {},
   "outputs": [
    {
     "data": {
      "text/plain": [
       "49"
      ]
     },
     "execution_count": 310,
     "metadata": {},
     "output_type": "execute_result"
    }
   ],
   "source": [
    "ord('1')"
   ]
  },
  {
   "cell_type": "code",
   "execution_count": 303,
   "metadata": {},
   "outputs": [
    {
     "name": "stdout",
     "output_type": "stream",
     "text": [
      "[2, 2, 14, 6, 9, 12, 7, 9, 3, 5]\n"
     ]
    },
    {
     "data": {
      "image/png": "[encoded data removed]",
      "text/plain": [
       "<Figure size 640x480 with 1 Axes>"
      ]
     },
     "metadata": {},
     "output_type": "display_data"
    }
   ],
   "source": [
    "\n",
    "def hash_length(data):\n",
    "    data = str(data)\n",
    "    return len(data)\n",
    "\n",
    "def hash_first(data):\n",
    "    data = str(data)\n",
    "    print(data)\n",
    "    return ord(data[0])\n",
    "\n",
    "def hash_sum(data):\n",
    "    data = str(data)\n",
    "    return sum([ord(x) for x in data])\n",
    "\n",
    "size = 10\n",
    "indices = [0] * size\n",
    "\n",
    "for word in lorem_text:\n",
    "    hash_code = hash_length(word) % size\n",
    "    indices[hash_code] += 1\n",
    "\n",
    "print(indices)\n",
    "_ = plt.bar(range(size), indices)"
   ]
  },
  {
   "cell_type": "code",
   "execution_count": 302,
   "metadata": {},
   "outputs": [
    {
     "data": {
      "image/png": "[encoded data removed]",
      "text/plain": [
       "<Figure size 640x480 with 1 Axes>"
      ]
     },
     "metadata": {},
     "output_type": "display_data"
    }
   ],
   "source": [
    "size = 10\n",
    "indices = [0] * size\n",
    "\n",
    "for word in lorem_text:\n",
    "    hash_code = hash_first(word) % size\n",
    "    indices[hash_code] += 1\n",
    "_ = plt.bar(range(size), indices)"
   ]
  },
  {
   "cell_type": "code",
   "execution_count": 208,
   "metadata": {},
   "outputs": [
    {
     "data": {
      "image/png": "[encoded data removed]",
      "text/plain": [
       "<Figure size 640x480 with 1 Axes>"
      ]
     },
     "metadata": {},
     "output_type": "display_data"
    }
   ],
   "source": [
    "size = 10\n",
    "indices = [0] * size\n",
    "\n",
    "for word in lorem_text:\n",
    "    hash_code = hash_sum(word) % size\n",
    "    indices[hash_code] += 1\n",
    "_ = plt.bar(range(size), indices)"
   ]
  },
  {
   "cell_type": "code",
   "execution_count": 209,
   "metadata": {},
   "outputs": [
    {
     "data": {
      "image/png": "[encoded data removed]",
      "text/plain": [
       "<Figure size 640x480 with 1 Axes>"
      ]
     },
     "metadata": {},
     "output_type": "display_data"
    }
   ],
   "source": [
    "size = 10\n",
    "indices = [0] * size\n",
    "\n",
    "for word in lorem_text:\n",
    "    hash_code = hash(word) % size\n",
    "    indices[hash_code] += 1\n",
    "_ = plt.bar(range(size), indices)"
   ]
  },
  {
   "cell_type": "code",
   "execution_count": 214,
   "metadata": {},
   "outputs": [
    {
     "data": {
      "text/plain": [
       "np.float64(0.9920705138308016)"
      ]
     },
     "execution_count": 214,
     "metadata": {},
     "output_type": "execute_result"
    }
   ],
   "source": [
    "from scipy.stats import entropy\n",
    "\n",
    "np.exp(entropy(indices))/size"
   ]
  },
  {
   "cell_type": "code",
   "execution_count": 217,
   "metadata": {},
   "outputs": [],
   "source": [
    "class my_hash_test:\n",
    "    def __init__(self, size=10, hash_method=hash):\n",
    "        self.size = size\n",
    "        self.indices = [0] * size\n",
    "        self.hash_method = hash_method\n",
    "\n",
    "    def hash_data(self, data):\n",
    "        for item in data:\n",
    "            hash_val = self.hash_method(item) % self.size\n",
    "            self.indices[hash_val] += 1\n",
    "\n",
    "    def evenness(self):\n",
    "        return np.exp(entropy(self.indices))/self.size\n",
    "\n",
    "    def plot(self):\n",
    "        plt.bar(range(self.size), self.indices)"
   ]
  },
  {
   "cell_type": "code",
   "execution_count": 301,
   "metadata": {},
   "outputs": [
    {
     "name": "stdout",
     "output_type": "stream",
     "text": [
      "0.8517538380636649\n",
      "[4, 11, 11, 7, 15, 15, 12, 11, 0, 14]\n"
     ]
    },
    {
     "data": {
      "image/png": "[encoded data removed]",
      "text/plain": [
       "<Figure size 640x480 with 1 Axes>"
      ]
     },
     "metadata": {},
     "output_type": "display_data"
    }
   ],
   "source": [
    "test = my_hash_test(hash_method=hash_first)\n",
    "test.hash_data(np.random.randint(0, 10000, 100))\n",
    "print(test.evenness())\n",
    "print(test.indices)\n",
    "test.plot()\n"
   ]
  },
  {
   "cell_type": "markdown",
   "metadata": {},
   "source": [
    "# Understanding python dictionary resizing"
   ]
  },
  {
   "cell_type": "code",
   "execution_count": 236,
   "metadata": {},
   "outputs": [
    {
     "data": {
      "text/plain": [
       "64"
      ]
     },
     "execution_count": 236,
     "metadata": {},
     "output_type": "execute_result"
    }
   ],
   "source": [
    "d = dict()\n",
    "sys.getsizeof(d)"
   ]
  },
  {
   "cell_type": "code",
   "execution_count": 274,
   "metadata": {},
   "outputs": [
    {
     "name": "stdout",
     "output_type": "stream",
     "text": [
      "Elements 1\tload factor 0.1250\tsize (bytes) 224\n",
      "Elements 2\tload factor 0.2500\tsize (bytes) 224\n",
      "Elements 3\tload factor 0.3750\tsize (bytes) 224\n",
      "Elements 4\tload factor 0.5000\tsize (bytes) 224\n",
      "Elements 5\tload factor 0.6250\tsize (bytes) 224\n",
      "Elements 6\tload factor 0.3750\tsize (bytes) 352\n",
      "Elements 7\tload factor 0.4375\tsize (bytes) 352\n",
      "Elements 8\tload factor 0.5000\tsize (bytes) 352\n",
      "Elements 9\tload factor 0.5625\tsize (bytes) 352\n",
      "Elements 10\tload factor 0.6250\tsize (bytes) 352\n",
      "Elements 11\tload factor 0.3438\tsize (bytes) 632\n",
      "Elements 12\tload factor 0.3750\tsize (bytes) 632\n",
      "Elements 13\tload factor 0.4062\tsize (bytes) 632\n",
      "Elements 14\tload factor 0.4375\tsize (bytes) 632\n",
      "Elements 15\tload factor 0.4688\tsize (bytes) 632\n",
      "Elements 16\tload factor 0.5000\tsize (bytes) 632\n",
      "Elements 17\tload factor 0.5312\tsize (bytes) 632\n",
      "Elements 18\tload factor 0.5625\tsize (bytes) 632\n",
      "Elements 19\tload factor 0.5938\tsize (bytes) 632\n",
      "Elements 20\tload factor 0.6250\tsize (bytes) 632\n",
      "Elements 21\tload factor 0.6562\tsize (bytes) 632\n",
      "Elements 22\tload factor 0.3438\tsize (bytes) 1168\n",
      "Elements 23\tload factor 0.3594\tsize (bytes) 1168\n",
      "Elements 24\tload factor 0.3750\tsize (bytes) 1168\n",
      "Elements 25\tload factor 0.3906\tsize (bytes) 1168\n",
      "Elements 26\tload factor 0.4062\tsize (bytes) 1168\n",
      "Elements 27\tload factor 0.4219\tsize (bytes) 1168\n",
      "Elements 28\tload factor 0.4375\tsize (bytes) 1168\n",
      "Elements 29\tload factor 0.4531\tsize (bytes) 1168\n",
      "Elements 30\tload factor 0.4688\tsize (bytes) 1168\n",
      "Elements 31\tload factor 0.4844\tsize (bytes) 1168\n",
      "Elements 32\tload factor 0.5000\tsize (bytes) 1168\n",
      "Elements 33\tload factor 0.5156\tsize (bytes) 1168\n",
      "Elements 34\tload factor 0.5312\tsize (bytes) 1168\n",
      "Elements 35\tload factor 0.5469\tsize (bytes) 1168\n",
      "Elements 36\tload factor 0.5625\tsize (bytes) 1168\n",
      "Elements 37\tload factor 0.5781\tsize (bytes) 1168\n",
      "Elements 38\tload factor 0.5938\tsize (bytes) 1168\n",
      "Elements 39\tload factor 0.6094\tsize (bytes) 1168\n",
      "Elements 40\tload factor 0.6250\tsize (bytes) 1168\n",
      "Elements 41\tload factor 0.6406\tsize (bytes) 1168\n",
      "Elements 42\tload factor 0.6562\tsize (bytes) 1168\n",
      "Elements 43\tload factor 0.3359\tsize (bytes) 2264\n",
      "Elements 44\tload factor 0.3438\tsize (bytes) 2264\n",
      "Elements 45\tload factor 0.3516\tsize (bytes) 2264\n",
      "Elements 46\tload factor 0.3594\tsize (bytes) 2264\n",
      "Elements 47\tload factor 0.3672\tsize (bytes) 2264\n",
      "Elements 48\tload factor 0.3750\tsize (bytes) 2264\n",
      "Elements 49\tload factor 0.3828\tsize (bytes) 2264\n"
     ]
    }
   ],
   "source": [
    "d = dict()\n",
    "length = 8\n",
    "\n",
    "for i in range(1, 50):\n",
    "    pre_size = sys.getsizeof(d)\n",
    "    d[i] = 1\n",
    "    post_size = sys.getsizeof(d)\n",
    "    if pre_size != post_size & pre_size != 64:\n",
    "        length = length * 2\n",
    "    print(f\"Elements {i}\\tload factor {i/length:.4f}\", end=\"\\t\")\n",
    "    print(f\"size (bytes) {post_size}\")\n"
   ]
  },
  {
   "cell_type": "code",
   "execution_count": null,
   "metadata": {},
   "outputs": [],
   "source": [
    "# Determine the element insertion number that will trigger the next index resize"
   ]
  },
  {
   "cell_type": "code",
   "execution_count": 277,
   "metadata": {},
   "outputs": [
    {
     "data": {
      "text/plain": [
       "85.33333333333333"
      ]
     },
     "execution_count": 277,
     "metadata": {},
     "output_type": "execute_result"
    }
   ],
   "source": [
    "128 * 2/3"
   ]
  },
  {
   "cell_type": "code",
   "execution_count": 244,
   "metadata": {
    "scrolled": true
   },
   "outputs": [
    {
     "name": "stdout",
     "output_type": "stream",
     "text": [
      "Elements 1 - load 0.12\t\t224\n",
      "Elements 2 - load 0.25\t\t224\n",
      "Elements 3 - load 0.38\t\t224\n",
      "Elements 4 - load 0.50\t\t224\n",
      "Elements 5 - load 0.62\t\t224\n",
      "Elements 6 - load 0.38\t\t352\n",
      "Elements 7 - load 0.44\t\t352\n",
      "Elements 8 - load 0.50\t\t352\n",
      "Elements 9 - load 0.56\t\t352\n",
      "Elements 10 - load 0.62\t\t352\n",
      "Elements 11 - load 0.34\t\t632\n",
      "Elements 12 - load 0.38\t\t632\n",
      "Elements 13 - load 0.41\t\t632\n",
      "Elements 14 - load 0.44\t\t632\n",
      "Elements 15 - load 0.47\t\t632\n",
      "Elements 16 - load 0.50\t\t632\n",
      "Elements 17 - load 0.53\t\t632\n",
      "Elements 18 - load 0.56\t\t632\n",
      "Elements 19 - load 0.59\t\t632\n",
      "Elements 20 - load 0.62\t\t632\n",
      "Elements 21 - load 0.66\t\t632\n",
      "Elements 22 - load 0.34\t\t1168\n",
      "Elements 23 - load 0.36\t\t1168\n",
      "Elements 24 - load 0.38\t\t1168\n",
      "Elements 25 - load 0.39\t\t1168\n",
      "Elements 26 - load 0.41\t\t1168\n",
      "Elements 27 - load 0.42\t\t1168\n",
      "Elements 28 - load 0.44\t\t1168\n",
      "Elements 29 - load 0.45\t\t1168\n",
      "Elements 30 - load 0.47\t\t1168\n",
      "Elements 31 - load 0.48\t\t1168\n",
      "Elements 32 - load 0.50\t\t1168\n",
      "Elements 33 - load 0.52\t\t1168\n",
      "Elements 34 - load 0.53\t\t1168\n",
      "Elements 35 - load 0.55\t\t1168\n",
      "Elements 36 - load 0.56\t\t1168\n",
      "Elements 37 - load 0.58\t\t1168\n",
      "Elements 38 - load 0.59\t\t1168\n",
      "Elements 39 - load 0.61\t\t1168\n",
      "Elements 40 - load 0.62\t\t1168\n",
      "Elements 41 - load 0.64\t\t1168\n",
      "Elements 42 - load 0.66\t\t1168\n",
      "Elements 43 - load 0.34\t\t2264\n",
      "Elements 44 - load 0.34\t\t2264\n",
      "Elements 45 - load 0.35\t\t2264\n",
      "Elements 46 - load 0.36\t\t2264\n",
      "Elements 47 - load 0.37\t\t2264\n",
      "Elements 48 - load 0.38\t\t2264\n",
      "Elements 49 - load 0.38\t\t2264\n",
      "Elements 50 - load 0.39\t\t2264\n",
      "Elements 51 - load 0.40\t\t2264\n",
      "Elements 52 - load 0.41\t\t2264\n",
      "Elements 53 - load 0.41\t\t2264\n",
      "Elements 54 - load 0.42\t\t2264\n",
      "Elements 55 - load 0.43\t\t2264\n",
      "Elements 56 - load 0.44\t\t2264\n",
      "Elements 57 - load 0.45\t\t2264\n",
      "Elements 58 - load 0.45\t\t2264\n",
      "Elements 59 - load 0.46\t\t2264\n",
      "Elements 60 - load 0.47\t\t2264\n",
      "Elements 61 - load 0.48\t\t2264\n",
      "Elements 62 - load 0.48\t\t2264\n",
      "Elements 63 - load 0.49\t\t2264\n",
      "Elements 64 - load 0.50\t\t2264\n",
      "Elements 65 - load 0.51\t\t2264\n",
      "Elements 66 - load 0.52\t\t2264\n",
      "Elements 67 - load 0.52\t\t2264\n",
      "Elements 68 - load 0.53\t\t2264\n",
      "Elements 69 - load 0.54\t\t2264\n",
      "Elements 70 - load 0.55\t\t2264\n",
      "Elements 71 - load 0.55\t\t2264\n",
      "Elements 72 - load 0.56\t\t2264\n",
      "Elements 73 - load 0.57\t\t2264\n",
      "Elements 74 - load 0.58\t\t2264\n",
      "Elements 75 - load 0.59\t\t2264\n",
      "Elements 76 - load 0.59\t\t2264\n",
      "Elements 77 - load 0.60\t\t2264\n",
      "Elements 78 - load 0.61\t\t2264\n",
      "Elements 79 - load 0.62\t\t2264\n",
      "Elements 80 - load 0.62\t\t2264\n",
      "Elements 81 - load 0.63\t\t2264\n",
      "Elements 82 - load 0.64\t\t2264\n",
      "Elements 83 - load 0.65\t\t2264\n",
      "Elements 84 - load 0.66\t\t2264\n",
      "Elements 85 - load 0.66\t\t2264\n",
      "Elements 86 - load 0.34\t\t4688\n",
      "Elements 87 - load 0.34\t\t4688\n",
      "Elements 88 - load 0.34\t\t4688\n",
      "Elements 89 - load 0.35\t\t4688\n",
      "Elements 90 - load 0.35\t\t4688\n",
      "Elements 91 - load 0.36\t\t4688\n",
      "Elements 92 - load 0.36\t\t4688\n",
      "Elements 93 - load 0.36\t\t4688\n",
      "Elements 94 - load 0.37\t\t4688\n",
      "Elements 95 - load 0.37\t\t4688\n",
      "Elements 96 - load 0.38\t\t4688\n",
      "Elements 97 - load 0.38\t\t4688\n",
      "Elements 98 - load 0.38\t\t4688\n",
      "Elements 99 - load 0.39\t\t4688\n"
     ]
    }
   ],
   "source": [
    "# Good\n",
    "d = dict()\n",
    "length = 8\n",
    "nbytes = 224\n",
    "for i in range(1, 100):\n",
    "    d[i] = i\n",
    "    tmp = sys.getsizeof(d)\n",
    "    if tmp != nbytes:\n",
    "        length = length * 2\n",
    "        nbytes = tmp\n",
    "    print(f\"Elements {i} - load {i/length:.2f}\", end=\"\\t\\t\")\n",
    "    print(nbytes, end=\"\\n\")\n"
   ]
  },
  {
   "cell_type": "markdown",
   "metadata": {},
   "source": [
    "# Hash table in python"
   ]
  },
  {
   "cell_type": "code",
   "execution_count": null,
   "metadata": {},
   "outputs": [],
   "source": [
    "class HashTable:\n",
    "    def __init__(self, size=10):\n",
    "        self.size = size\n",
    "        self.table = [[] for _ in range(size)]  # Create a list of empty lists (chaining)\n",
    "\n",
    "    def _hash(self, key):\n",
    "        \"\"\"Generate a hash index using Python's built-in hash function.\"\"\"\n",
    "        return hash(key) % self.size\n",
    "\n",
    "    def put(self, key, value):\n",
    "        \"\"\"Insert a key-value pair into the hash table.\"\"\"\n",
    "        index = self._hash(key)\n",
    "        for pair in self.table[index]:\n",
    "            if pair[0] == key:\n",
    "                pair[1] = value  # Update value if key already exists\n",
    "                return\n",
    "        self.table[index].append([key, value])  # Append new key-value pair\n",
    "\n",
    "    def get(self, key):\n",
    "        \"\"\"Retrieve a value by key.\"\"\"\n",
    "        index = self._hash(key)\n",
    "        for pair in self.table[index]:\n",
    "            if pair[0] == key:\n",
    "                return pair[1]  # Return the value if key is found\n",
    "        return None  # Key not found\n",
    "\n",
    "    def remove(self, key):\n",
    "        \"\"\"Remove a key-value pair from the hash table.\"\"\"\n",
    "        index = self._hash(key)\n",
    "        for i, pair in enumerate(self.table[index]):\n",
    "            if pair[0] == key:\n",
    "                del self.table[index][i]\n",
    "                return True\n",
    "        return False  # Key not found\n",
    "\n",
    "    def display(self):\n",
    "        \"\"\"Display the current state of the hash table.\"\"\"\n",
    "        for i, bucket in enumerate(self.table):\n",
    "            print(f\"Bucket {i}: {bucket}\")"
   ]
  },
  {
   "cell_type": "markdown",
   "metadata": {},
   "source": [
    "### Numpy arrays\n",
    "Numpy arrays are efficient for storing and operating on sets of values that are all of the same `dtype`. "
   ]
  },
  {
   "cell_type": "code",
   "execution_count": null,
   "metadata": {},
   "outputs": [],
   "source": [
    "# default type is float64 (large)\n",
    "arr = np.zeros(10)\n",
    "print(arr)\n",
    "print(arr.dtype)\n",
    "print(arr.nbytes)"
   ]
  },
  {
   "cell_type": "code",
   "execution_count": null,
   "metadata": {},
   "outputs": [],
   "source": [
    "# default int type is int64 (large)\n",
    "arr = np.zeros(10, dtype=int)\n",
    "print(arr)\n",
    "print(arr.dtype)\n",
    "print(arr.nbytes)"
   ]
  },
  {
   "cell_type": "code",
   "execution_count": null,
   "metadata": {},
   "outputs": [],
   "source": [
    "# smaller int types are faster and use less memory (1/4 of the above example)\n",
    "arr = np.zeros(10, dtype=np.int16)\n",
    "print(arr)\n",
    "print(arr.dtype)\n",
    "print(arr.nbytes)"
   ]
  },
  {
   "cell_type": "code",
   "execution_count": null,
   "metadata": {},
   "outputs": [],
   "source": [
    "# smaller int types are faster and use less memory (1/8 of the above example)\n",
    "arr = np.zeros(10, dtype=np.int8)\n",
    "print(arr)\n",
    "print(arr.dtype)\n",
    "print(arr.nbytes)"
   ]
  },
  {
   "cell_type": "markdown",
   "metadata": {},
   "source": [
    "The default numeric types are int64 and float64, which are able to hold super super large numbers. But, they take up large amounts of memory too. In general, who cares, memory is cheap. But, when you're writing code for performance, it turns out that using smaller dtypes can make your code much much faster. For example, if your data is always composed of only 4 values (e.g., think of DNA which is only 4 characters) then you do not need to use a dtype that is so much larger. The danger of using a small dtype is that you can experience 'overflow' if your values do exceed the capacity of the dtype. For example, int8 can only store values in -128 to 128. When this happens you get strange results that will cause big errors in your analyses! This is why the default is to use large dtypes (like np.int64).\n",
    "\n",
    "To keep things simple when you're first starting to learn numpy you could just always use the default dtype when working with numeric data (np.float64). But it is good to be aware of dtypes since understanding these will help you to become a power user."
   ]
  },
  {
   "cell_type": "code",
   "execution_count": null,
   "metadata": {},
   "outputs": [],
   "source": [
    "# max int8 is 128 (uh oh, it starts counting down after 127!)\n",
    "arr = np.zeros(10, dtype=np.int8)\n",
    "arr[:] = range(125, 135)\n",
    "print(arr)"
   ]
  },
  {
   "cell_type": "markdown",
   "metadata": {},
   "source": [
    "\n",
    "To keep things simple when you're first starting to learn numpy you could just always use the default dtype when working with numeric data (np.float64). But it is good to be aware of dtypes since understanding these will help you to become a power user."
   ]
  },
  {
   "cell_type": "markdown",
   "metadata": {},
   "source": [
    "### Modifying arrays (a copy versus a view)\n",
    "\n",
    "Although arrays seem similar to lists, they are in fact very different and you will likely run in to many errors early on due to this confusion. Arrays can be indexed and sliced like lists, and they are also mutable, so that you can change values within an array like in a list. However, they differ in operations like broadcasting (e.g., + 1 will add 1 value to all elements of an array but not a list), and they obviously have very different functions and attributes.\n",
    "\n",
    "Another difference that it is important to be aware of it that they return a different type of object when you <b>slice</b> an array versus a list. This topic may seem like a minor detail, but it is a common 'gotcha', and so a good thing to try to comprehend. \n",
    "\n",
    "Essentially, arrays are intended to store only a single copy of itself in memory unless you *explicitly* tell it to make another copy by using the `.copy()` function. Otherwise, the thing that is returned to you when you perform a slice on an array is called a `view` (a view of the same object). If you modify a view of an array object then you will have modified the original array object as well. \n",
    "\n",
    "Lists on the other hand return a copy of themselves when you index or slice them, such that the original is unchanged if you operate on the copy. This is demonstrated below. First I show that mutating a single indexed value is not a problem. They behave the same. It is only when slicing that this difference arises."
   ]
  },
  {
   "cell_type": "code",
   "execution_count": null,
   "metadata": {},
   "outputs": [],
   "source": [
    "# mutate the first element in a list\n",
    "ll = ['a', 'b', 'c']\n",
    "ll[0] = 'd'\n",
    "print(ll)"
   ]
  },
  {
   "cell_type": "code",
   "execution_count": null,
   "metadata": {},
   "outputs": [],
   "source": [
    "# mutate the first element in an array\n",
    "arr = np.array(['a', 'b', 'c'])\n",
    "arr[0] = 'd'\n",
    "print(arr)"
   ]
  },
  {
   "cell_type": "code",
   "execution_count": null,
   "metadata": {},
   "outputs": [],
   "source": [
    "# make a copy of a list and mutate it, both exist as separate instances\n",
    "lc = ll.copy()\n",
    "lc[0] = 'e'\n",
    "print(lc, ll)"
   ]
  },
  {
   "cell_type": "code",
   "execution_count": null,
   "metadata": {},
   "outputs": [],
   "source": [
    "# make a copy of an array and mutate it, both exist as separate instances\n",
    "carr = arr.copy()\n",
    "carr[0] = 'e'\n",
    "print(carr, arr)"
   ]
  },
  {
   "cell_type": "markdown",
   "metadata": {},
   "source": [
    "So far so good. Nothing unexpected happened. But now you will see how they act differently:"
   ]
  },
  {
   "cell_type": "code",
   "execution_count": null,
   "metadata": {},
   "outputs": [],
   "source": [
    "# make a copy of list by slicing, mutate first element, and compare: they are different\n",
    "lsub = ll[:2]\n",
    "lsub[0] = 'x'\n",
    "print(lsub, ll)"
   ]
  },
  {
   "cell_type": "code",
   "execution_count": null,
   "metadata": {},
   "outputs": [],
   "source": [
    "# make a view of array by slicing, mutate first element, and compare: they are same!\n",
    "asub = arr[:2]\n",
    "asub[0] = 'x'\n",
    "print(asub, arr)"
   ]
  },
  {
   "cell_type": "code",
   "execution_count": null,
   "metadata": {},
   "outputs": [],
   "source": [
    "# to get a copy of the array we need to call .copy() explicitly!\n",
    "asub = arr[:2].copy()\n",
    "asub[0] = 'y'\n",
    "print(asub, arr)"
   ]
  },
  {
   "cell_type": "markdown",
   "metadata": {},
   "source": [
    "## Genomic sequence data as an array\n",
    "The string characters A,C,G,T can be sampled in an array to represent a sequence of DNA. Here we use the `.random` module of numpy, which is similar to the `.random` package from the standard library, but much more powerful, as it return arrays and has many more scientific methods for sampling random distributions, as we'll see. The array of sequence data in this case is six rows and 12 columns, or in other words, we have data for 6 haploid individuals for 12 sites of DNA. "
   ]
  },
  {
   "cell_type": "code",
   "execution_count": null,
   "metadata": {},
   "outputs": [],
   "source": [
    "seq = np.random.choice(list(\"ACGT\"), size=10, replace=True)  # make array that is 12 bases long\n",
    "seqs = np.array([seq] * 6)                                   # make 6 copies of arr"
   ]
  },
  {
   "cell_type": "code",
   "execution_count": null,
   "metadata": {},
   "outputs": [],
   "source": [
    "print(seqs)"
   ]
  },
  {
   "cell_type": "markdown",
   "metadata": {},
   "source": [
    "### Fancy indexing"
   ]
  },
  {
   "cell_type": "code",
   "execution_count": null,
   "metadata": {},
   "outputs": [],
   "source": [
    "# select the first four rows\n",
    "seqs[:4, :]"
   ]
  },
  {
   "cell_type": "code",
   "execution_count": null,
   "metadata": {},
   "outputs": [],
   "source": [
    "# select the last six columns\n",
    "seqs[:, -6:]"
   ]
  },
  {
   "cell_type": "code",
   "execution_count": null,
   "metadata": {},
   "outputs": [],
   "source": [
    "# select first two rows and first four columns\n",
    "seqs[:2, :4]"
   ]
  },
  {
   "cell_type": "code",
   "execution_count": null,
   "metadata": {},
   "outputs": [],
   "source": [
    "# create boolean mask of whether element is \"G\"\n",
    "seqs == \"G\""
   ]
  },
  {
   "cell_type": "code",
   "execution_count": null,
   "metadata": {},
   "outputs": [],
   "source": [
    "# view the boolean mask as int8 values (easier to read than True/False)\n",
    "np.int8(seqs == \"G\")"
   ]
  },
  {
   "cell_type": "code",
   "execution_count": null,
   "metadata": {},
   "outputs": [],
   "source": [
    "# create boolean mask for whether any sites in a column are \"G\"\n",
    "np.any(seqs == \"G\", axis=0)"
   ]
  },
  {
   "cell_type": "markdown",
   "metadata": {},
   "source": [
    "# Generate variable sequence data\n",
    "\n",
    "Don't worry too much about this function for right now, we'll dive into it in detail in the next notebook. For now we'll just use it to generate variable sequence data. "
   ]
  },
  {
   "cell_type": "code",
   "execution_count": null,
   "metadata": {},
   "outputs": [],
   "source": [
    "def seqdata(ninds, nsites, seed=None):\n",
    "    \"\"\"\n",
    "    Generate a ninds x nsites array of A,C,T,G string data\n",
    "    and randomly add mutations to some sites.\n",
    "    \"\"\"\n",
    "    # use random seed\n",
    "    np.random.seed(seed)\n",
    "    \n",
    "    # make sequence data \n",
    "    oseq = np.random.choice(list(\"ACGT\"), size=nsites)\n",
    "    arr = np.array([oseq] * ninds)\n",
    "    \n",
    "    # introduce some mutataions\n",
    "    muts = np.random.binomial(1, 0.1, (ninds, nsites))\n",
    "    for col in range(nsites):\n",
    "        newbase = np.random.choice(list(set(\"ACTG\") - set(arr[0, col])))\n",
    "        mask = muts[:, col].astype(bool)\n",
    "        arr[:, col][mask] = newbase\n",
    "    return arr"
   ]
  },
  {
   "cell_type": "code",
   "execution_count": null,
   "metadata": {},
   "outputs": [],
   "source": [
    "# generate an array of variable sequence data\n",
    "arr = seqdata(8, 10, 12345)\n",
    "print(arr)"
   ]
  },
  {
   "cell_type": "markdown",
   "metadata": {},
   "source": [
    "### Find variable sites\n",
    "Here we can use a broadcasting method to compare sequences to find if there is any variation in the sequences. We could examine each column individually and count the number of elements in it, but a much easier way is to simply perform on operation over an `axis` of the array that will return True or False depending on whether there is variation. One way is to simply compare each column to the value in the first row. Broadcasting will allow this to work so that across all rows each value in each column is compared to its respective first row element. \n",
    "\n",
    "Look at the boolean array below and the array above to see how it is identifying the columns that contain variation (columns where all elements are not the same as the first row). Complex tasks like this can be made very simple by learning how to think in terms of array operations."
   ]
  },
  {
   "cell_type": "code",
   "execution_count": null,
   "metadata": {},
   "outputs": [],
   "source": [
    "# ask which sites are variable\n",
    "print(arr != arr[0])"
   ]
  },
  {
   "cell_type": "markdown",
   "metadata": {},
   "source": [
    "### Using *any* and *all*\n",
    "These are commonly used operations to select or mask parts of an array based on a boolean comparison. Below we call `.any()` on a boolean array. The operation `arr != arr[0]` returns the boolean array shown above (all True or False values). The `.any()` function will return True if the value is True. By telling it to work over an axis we are asking it to tell us if *any* of the values in a given column are True. From looking at the array above we can see that some are and some aren't. We expect to get a result that includes a True or False statement for each column. Thus, by operating over the array with an axes argument we expect the *dimension* of the result to be less than the original array (i.e., the shape of arr is (8,10) and the shape of the result below is (10,)). "
   ]
  },
  {
   "cell_type": "code",
   "execution_count": null,
   "metadata": {},
   "outputs": [],
   "source": [
    "# broadcast with any() to get columns (sites) that are variable\n",
    "np.any(arr != arr[0], axis=0)"
   ]
  },
  {
   "cell_type": "markdown",
   "metadata": {},
   "source": [
    "## Masking (filtering)\n",
    "\n",
    "Here we will use masking through an example for calculating population genetic statistics from a sequence array.\n",
    "\n",
    "Often we are interested in filtering sequence data based on some criterion before we calculate statistics on it. Examples would be filtering to remove sites with missing data (often coded in DNA by the character `N`), or filtering to remove sites with rare alleles (if its found in very few individuals it may just be an error). The latter is often applied with a filter called a minor allele frequency (MAF). Let's practice calculating the minor allele frequency and filtering based on it. "
   ]
  },
  {
   "cell_type": "code",
   "execution_count": null,
   "metadata": {},
   "outputs": [],
   "source": [
    "# generate a larger array of variable sequence data\n",
    "arr = seqdata(16, 10, 12345)\n",
    "print(arr)"
   ]
  },
  {
   "cell_type": "markdown",
   "metadata": {},
   "source": [
    "### calculate the frequency of the rare allele in each column\n",
    "Let's think about how to do this. First, we need to find the sites that are variable in each column, then we need to find a way to count them, and then divide by the length of the column to get the value as a frequency. Well, all of this information is present in the operations we performed above to find the variable sites. Let's use that same framework here. "
   ]
  },
  {
   "cell_type": "markdown",
   "metadata": {},
   "source": [
    "#### 1. view which sites are variable?"
   ]
  },
  {
   "cell_type": "code",
   "execution_count": null,
   "metadata": {},
   "outputs": [],
   "source": [
    "# comparison returns True or False for every value (shown as ints for easier viewing here)\n",
    "np.int8(arr != arr[0])"
   ]
  },
  {
   "cell_type": "markdown",
   "metadata": {},
   "source": [
    "#### 2. get each column as a frequency\n",
    "Try to tease apart what each part is doing here. Open a new jupyter cell below and execute parts of the code. What is returned by the sum function? What is the shape[0]? Try to figure it out by exploring."
   ]
  },
  {
   "cell_type": "code",
   "execution_count": null,
   "metadata": {},
   "outputs": [],
   "source": [
    "# get sum of each column in array from above. Divide each column sum by the column length.\n",
    "np.sum(arr != arr[0], axis=0) / arr.shape[0]"
   ]
  },
  {
   "cell_type": "markdown",
   "metadata": {},
   "source": [
    "#### 3. to get the minor allele frequency"
   ]
  },
  {
   "cell_type": "code",
   "execution_count": null,
   "metadata": {},
   "outputs": [],
   "source": [
    "# store view from above cell\n",
    "freqs = np.sum(arr != arr[0], axis=0) / arr.shape[0]\n",
    "\n",
    "# store a copy so we do not modify the original array 'arr'\n",
    "maf = freqs.copy()\n",
    "\n",
    "# subselect sites with freq (>0.5) and modify to be 1-value (so it is a MINOR freq)\n",
    "maf[maf > 0.5] = 1 - maf[maf > 0.5]\n",
    "\n",
    "# print minor allele frequencies\n",
    "print(maf)"
   ]
  },
  {
   "cell_type": "markdown",
   "metadata": {},
   "source": [
    "#### 4. filter columns of the array by MAF\n",
    "For our analyses we might only want to analyze sites with a MAF > 0.1. This excludes two sites from the original array, one that was not variable and one that was variable at only a single haplotype. "
   ]
  },
  {
   "cell_type": "code",
   "execution_count": null,
   "metadata": {},
   "outputs": [],
   "source": [
    "print(arr[:, maf > 0.1])"
   ]
  },
  {
   "cell_type": "markdown",
   "metadata": {},
   "source": [
    "<div class=\"alert alert-success\">\n",
    "    Congrats you have finished the notebook. There is not assessment here, move on the next notebook. It is OK if you found this part challenging. It will take some time to become comfortable with the numpy notation. But be sure to practice as you go by dissecting these statements and running them bit by bit in your notebook.\n",
    "</div>"
   ]
  }
 ],
 "metadata": {
  "kernelspec": {
   "display_name": "Python 3 (ipykernel)",
   "language": "python",
   "name": "python3"
  },
  "language_info": {
   "codemirror_mode": {
    "name": "ipython",
    "version": 3
   },
   "file_extension": ".py",
   "mimetype": "text/x-python",
   "name": "python",
   "nbconvert_exporter": "python",
   "pygments_lexer": "ipython3",
   "version": "3.12.5"
  }
 },
 "nbformat": 4,
 "nbformat_minor": 4
}
