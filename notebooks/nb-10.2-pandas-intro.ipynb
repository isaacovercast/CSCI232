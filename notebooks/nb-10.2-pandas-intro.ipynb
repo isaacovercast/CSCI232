{
 "cells": [
  {
   "cell_type": "markdown",
   "metadata": {},
   "source": [
    "# Notebook 6.2: Pandas"
   ]
  },
  {
   "cell_type": "markdown",
   "metadata": {},
   "source": [
    "Pandas is a library for working with `DataFrames`. This is yet another type of object to learn in Python, but it is also a very intuitive data structure and is closely connected to `numpy`'s ndarray objects, which makes it easier to learn. Essentially, you can think of pandas DataFrames as a pretty wrapper around an array object, that add column and row names and allow you to access elements by names instead of only by indices. \n",
    "\n",
    "This notebook will simply reiterate many concepts from your assigned reading.\n",
    "\n",
    "Read more about pandas at the documentation: https://pandas.pydata.org/pandas-docs/stable/dsintro.html"
   ]
  },
  {
   "cell_type": "markdown",
   "metadata": {},
   "source": [
    "### Required software"
   ]
  },
  {
   "cell_type": "code",
   "execution_count": null,
   "metadata": {},
   "outputs": [],
   "source": [
    "# conda install numpy -c conda-forge\n",
    "# conda install pandas -c conda-forge"
   ]
  },
  {
   "cell_type": "code",
   "execution_count": null,
   "metadata": {},
   "outputs": [],
   "source": [
    "import numpy as np\n",
    "import pandas as pd"
   ]
  },
  {
   "cell_type": "code",
   "execution_count": null,
   "metadata": {},
   "outputs": [],
   "source": [
    "# let's define some ndarrays\n",
    "arr0 = np.zeros(10)\n",
    "arr1 = np.ones(10)\n",
    "arr2 = np.arange(10)\n",
    "arr3 = np.array(list(\"abcdefghij\"))"
   ]
  },
  {
   "cell_type": "markdown",
   "metadata": {},
   "source": [
    "### 1-dimensional Series objects\n",
    "The first datatype in pandas are `Series`. These are simply 1-dimensional arrays with the option of attaching a name to them. Series objects will display the dtype of the object as well as the `index` to the left of it. You will notice that the argument for entering a name is `name`, not `names`, this is because Series are 1-dimensional and thus should only have a single column name. "
   ]
  },
  {
   "cell_type": "code",
   "execution_count": null,
   "metadata": {},
   "outputs": [],
   "source": [
    "pd.Series(data=arr0, name='arr0')"
   ]
  },
  {
   "cell_type": "code",
   "execution_count": null,
   "metadata": {},
   "outputs": [],
   "source": [
    "pd.Series(np.random.randint(0, 10, 5), index=['a', 'b', 'c', 'd', 'e'])"
   ]
  },
  {
   "cell_type": "code",
   "execution_count": null,
   "metadata": {},
   "outputs": [],
   "source": [
    "# you can create a series with a custom index by using a dict as the data entry\n",
    "ddict = {'a': 3, 'b': 4, 'c': 5}\n",
    "pd.Series(ddict, name=\"values\")"
   ]
  },
  {
   "cell_type": "code",
   "execution_count": null,
   "metadata": {},
   "outputs": [],
   "source": [
    "# but it is sometimes more clear to enter the data, name, and index separately\n",
    "pd.Series(data=arr0, name='arr1', index=list(\"abcdefghij\"))"
   ]
  },
  {
   "cell_type": "markdown",
   "metadata": {},
   "source": [
    "### A series can be indexed like an ndarray\n",
    "and it can be indexed like a Python dictionary using the `index` as a key. "
   ]
  },
  {
   "cell_type": "code",
   "execution_count": null,
   "metadata": {},
   "outputs": [],
   "source": [
    "# create a Series\n",
    "ddict = {'a': 3, 'b': 4, 'c': 5, 'd':10, 'e': 40}\n",
    "data = pd.Series(ddict)"
   ]
  },
  {
   "cell_type": "code",
   "execution_count": null,
   "metadata": {},
   "outputs": [],
   "source": [
    "# select Series by index\n",
    "print(data[1:3])"
   ]
  },
  {
   "cell_type": "code",
   "execution_count": null,
   "metadata": {},
   "outputs": [],
   "source": [
    "# select Series by name like a dict\n",
    "print(data['a'])"
   ]
  },
  {
   "cell_type": "code",
   "execution_count": null,
   "metadata": {},
   "outputs": [],
   "source": [
    "# select Series by name like an object\n",
    "print(data.e)"
   ]
  },
  {
   "cell_type": "markdown",
   "metadata": {},
   "source": [
    "## 2-dimensional DataFrame objects\n",
    "\n",
    "Although `Series` objects are useful, the `DataFrame` class object is used much more frequently. You can think of the columns of a dataframe as each being a separate Series object. Dataframes can take the argument `columns` to set the column names. There are several ways to create a DataFrame, using dictionaries, ndarrays, Series, and dictionaries. (almost too many options...)."
   ]
  },
  {
   "cell_type": "code",
   "execution_count": null,
   "metadata": {},
   "outputs": [],
   "source": [
    "pd.DataFrame(arr0, columns=['arr0'])"
   ]
  },
  {
   "cell_type": "code",
   "execution_count": null,
   "metadata": {},
   "outputs": [],
   "source": [
    "pd.DataFrame({'arr0': arr0, 'arr1': arr1})"
   ]
  },
  {
   "cell_type": "code",
   "execution_count": null,
   "metadata": {},
   "outputs": [],
   "source": [
    "pd.DataFrame(\n",
    "    data=[\n",
    "        pd.Series(arr0, name='arr0'),\n",
    "        pd.Series(arr1, name='arr1'),\n",
    "    ])"
   ]
  },
  {
   "cell_type": "code",
   "execution_count": null,
   "metadata": {},
   "outputs": [],
   "source": [
    "pd.DataFrame(\n",
    "    data=[arr0, arr1, arr2], \n",
    "    index=['arr0', 'arr1', 'arr2'],\n",
    "    )"
   ]
  },
  {
   "cell_type": "code",
   "execution_count": null,
   "metadata": {},
   "outputs": [],
   "source": [
    "# Transpose a dataframe (.T)\n",
    "pd.DataFrame(\n",
    "    data=[arr0, arr1, arr2], \n",
    "    index=['arr0', 'arr1', 'arr2'],\n",
    "    ).T"
   ]
  },
  {
   "cell_type": "markdown",
   "metadata": {},
   "source": [
    "### Parsing CSV files\n",
    "This is one of the best uses of pandas, and is your magic replacement for never having to open an excel spreadsheet again. Pandas has a super flexible framework for reading in data tables that are stored in a wide variety of formats. The most commonly used format for storing data tables is CSV, which stands for comma-separated values. We've seen this type of file before when we were working with the iris data set in our first few lessons. Other common types include TSV (tab separated values), and XLS which is the proprietary formal of microsoft excel. In general, for storing data that you want other to *use* and not just look at, CSV or TSV is much preferred to XLS. "
   ]
  },
  {
   "cell_type": "code",
   "execution_count": null,
   "metadata": {},
   "outputs": [],
   "source": [
    "# load a CSV file by reading it straight from a url\n",
    "data = pd.read_csv(\n",
    "    \"http://eaton-lab.org/data/iris-data-dirty.csv\", \n",
    "    header=None) \n",
    "\n",
    "data.head()"
   ]
  },
  {
   "cell_type": "code",
   "execution_count": null,
   "metadata": {},
   "outputs": [],
   "source": [
    "# set new column names\n",
    "data.columns=[\"trait1\", \"trait2\", \"trait3\", \"trait4\", \"label\"]\n",
    "data.head()"
   ]
  },
  {
   "cell_type": "code",
   "execution_count": null,
   "metadata": {},
   "outputs": [],
   "source": [
    "# save as a CSV file\n",
    "data.to_csv(\"iris-data-dirty.csv\")"
   ]
  },
  {
   "cell_type": "code",
   "execution_count": null,
   "metadata": {},
   "outputs": [],
   "source": [
    "# open it again by parsing the CSV file on disk this time\n",
    "data = pd.read_csv(\"iris-data-dirty.csv\", index_col=0)\n",
    "data.head()"
   ]
  },
  {
   "cell_type": "markdown",
   "metadata": {},
   "source": [
    "### Operate on the DataFrame\n",
    "Here we will replace some typos in the data."
   ]
  },
  {
   "cell_type": "code",
   "execution_count": null,
   "metadata": {},
   "outputs": [],
   "source": [
    "# find all values in the 'label' column using .unique\n",
    "print(data.label.unique())"
   ]
  },
  {
   "cell_type": "code",
   "execution_count": null,
   "metadata": {},
   "outputs": [],
   "source": [
    "# RETURNS a modified COPY\n",
    "data2 = (data\n",
    "    .replace(\"Iris-setsa\", \"Iris-setosa\")\n",
    "    .replace(\"Iris-versicolour\", \"Iris-versicolor\")\n",
    ")"
   ]
  },
  {
   "cell_type": "code",
   "execution_count": null,
   "metadata": {},
   "outputs": [],
   "source": [
    "# Modifies in place (less desirable, can't chain functions)\n",
    "data.replace(\"Iris-setsa\", \"Iris-setosa\", inplace=True)\n",
    "data.replace(\"Iris-versicolour\", \"Iris-versicolor\", inplace=True)"
   ]
  },
  {
   "cell_type": "code",
   "execution_count": null,
   "metadata": {},
   "outputs": [],
   "source": [
    "# return a formatted table of a calculation\n",
    "pd.DataFrame({\n",
    "    \"trait1\": pd.Series({\n",
    "        \"mean\": data.trait1.mean(), \n",
    "        \"std\": data.trait1.std()\n",
    "    }), \n",
    "    \"trait2\": pd.Series({\n",
    "        \"mean\": data.trait2.mean(), \n",
    "        \"std\": data.trait2.std(),\n",
    "    }),\n",
    "})"
   ]
  },
  {
   "cell_type": "code",
   "execution_count": null,
   "metadata": {},
   "outputs": [],
   "source": [
    "data.columns"
   ]
  },
  {
   "cell_type": "code",
   "execution_count": null,
   "metadata": {},
   "outputs": [],
   "source": [
    "pd.DataFrame({\"mean\": data.mean(), \"std\": data.std()})"
   ]
  },
  {
   "cell_type": "code",
   "execution_count": null,
   "metadata": {},
   "outputs": [],
   "source": [
    "# stats summary method \n",
    "data.describe()"
   ]
  },
  {
   "cell_type": "markdown",
   "metadata": {},
   "source": [
    "### So much more\n",
    "Pandas is a very powerful library, and your reading introduces a huge range of ways to use it. We'll continue using pandas and numpy very extensively in the coming weeks, so make sure you have a good grasp of their basics (how to index, slice, and access views of these objects) and some idea of their larger capabilities (reading in tables, calculating statistics, performing operations across axes). \n",
    "\n",
    "See the official documentation and further tutorials:\n",
    "https://pandas.pydata.org/pandas-docs/version/1.0.0/getting_started/10min.html"
   ]
  }
 ],
 "metadata": {
  "kernelspec": {
   "display_name": "Python 3",
   "language": "python",
   "name": "python3"
  },
  "language_info": {
   "codemirror_mode": {
    "name": "ipython",
    "version": 3
   },
   "file_extension": ".py",
   "mimetype": "text/x-python",
   "name": "python",
   "nbconvert_exporter": "python",
   "pygments_lexer": "ipython3",
   "version": "3.8.5"
  }
 },
 "nbformat": 4,
 "nbformat_minor": 2
}
