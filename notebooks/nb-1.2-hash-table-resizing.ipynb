{
 "cells": [
  {
   "cell_type": "markdown",
   "id": "b30a12c2-f692-487c-8ac1-49c5cfa84e86",
   "metadata": {},
   "source": [
    "# Understanding python dictionary resizing\n",
    "\n",
    "An exercise in understanding hash table resizing for python dictionaries, which implement linear probing under the hood."
   ]
  },
  {
   "cell_type": "code",
   "execution_count": 1,
   "id": "2605d243-3607-452d-abc0-87c7786de1f6",
   "metadata": {},
   "outputs": [
    {
     "data": {
      "text/plain": [
       "64"
      ]
     },
     "execution_count": 1,
     "metadata": {},
     "output_type": "execute_result"
    }
   ],
   "source": [
    "import sys\n",
    "\n",
    "d = dict()\n",
    "sys.getsizeof(d)"
   ]
  },
  {
   "cell_type": "code",
   "execution_count": null,
   "id": "d4729568-bb31-47c0-b565-3faa81239d2e",
   "metadata": {},
   "outputs": [],
   "source": [
    "d = dict()\n",
    "length = 8\n",
    "\n",
    "for i in range(1, 50):\n",
    "    pre_size = sys.getsizeof(d)\n",
    "    d[i] = 1\n",
    "    post_size = sys.getsizeof(d)\n",
    "    if pre_size != post_size & pre_size != 64:\n",
    "        length = length * 2\n",
    "    print(f\"Elements {i}\\tload factor {i/length:.4f}\", end=\"\\t\")\n",
    "    print(f\"size (bytes) {post_size}\")\n"
   ]
  },
  {
   "cell_type": "markdown",
   "id": "416179df-a9ec-425c-8b2e-81c351884c60",
   "metadata": {},
   "source": [
    "# Determine the element insertion number that will trigger the next index resize"
   ]
  },
  {
   "cell_type": "code",
   "execution_count": null,
   "id": "a7a17068-ff50-4696-bee2-56c20a1948f7",
   "metadata": {},
   "outputs": [],
   "source": []
  }
 ],
 "metadata": {
  "kernelspec": {
   "display_name": "Python 3 (ipykernel)",
   "language": "python",
   "name": "python3"
  },
  "language_info": {
   "codemirror_mode": {
    "name": "ipython",
    "version": 3
   },
   "file_extension": ".py",
   "mimetype": "text/x-python",
   "name": "python",
   "nbconvert_exporter": "python",
   "pygments_lexer": "ipython3",
   "version": "3.12.5"
  }
 },
 "nbformat": 4,
 "nbformat_minor": 5
}
