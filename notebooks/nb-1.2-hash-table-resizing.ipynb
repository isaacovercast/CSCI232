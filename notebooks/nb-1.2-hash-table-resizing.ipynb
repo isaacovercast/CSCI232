{
 "cells": [
  {
   "cell_type": "markdown",
   "id": "b30a12c2-f692-487c-8ac1-49c5cfa84e86",
   "metadata": {},
   "source": [
    "# Understanding python dictionary resizing\n",
    "\n",
    "An exercise in understanding hash table resizing for python dictionaries, which implement an open addressing\n",
    "scheme akin to linear probing under the hood.\n",
    "\n",
    "First create a new empty `dict` and use the `sys.getsizeof()` method to assess its size in bytes."
   ]
  },
  {
   "cell_type": "code",
   "execution_count": 1,
   "id": "2605d243-3607-452d-abc0-87c7786de1f6",
   "metadata": {},
   "outputs": [
    {
     "data": {
      "text/plain": [
       "64"
      ]
     },
     "execution_count": 1,
     "metadata": {},
     "output_type": "execute_result"
    }
   ],
   "source": [
    "import sys\n",
    "\n",
    "d = dict()\n",
    "sys.getsizeof(d)"
   ]
  },
  {
   "cell_type": "code",
   "execution_count": null,
   "id": "d4729568-bb31-47c0-b565-3faa81239d2e",
   "metadata": {},
   "outputs": [],
   "source": [
    "d = dict()\n",
    "# By default python dictionaries start with 8 buckets\n",
    "length = 8\n",
    "\n",
    "# Here we are going to run a loop and add a new key/value pair at each iteration\n",
    "# We measure the size of the dict before and after we add a new item. If\n",
    "# the size changes then we know python has resized the dictionary after the insertion.\n",
    "# For each iteration we print out information about the number of elements, current load\n",
    "# factor and the size in bytes.\n",
    "for i in range(1, 51):\n",
    "    pre_size = sys.getsizeof(d)\n",
    "    d[i] = 1\n",
    "    post_size = sys.getsizeof(d)\n",
    "    # Here we ignore the case where pre_size == 64 because python empty dict is 64 bytes\n",
    "    # and it increases in size to 224 upon insertion of the first element without resizing\n",
    "    # the internal hash table (it's some kind of optimization thing).\n",
    "    if pre_size != post_size & pre_size != 64:\n",
    "        length = length * 2\n",
    "    print(f\"Elements {i}\\tload factor {i/length:.4f}\", end=\"\\t\")\n",
    "    print(f\"size (bytes) {post_size}\")"
   ]
  },
  {
   "cell_type": "markdown",
   "id": "416179df-a9ec-425c-8b2e-81c351884c60",
   "metadata": {},
   "source": [
    "# Determine the element insertion number that will trigger the next resizing\n",
    "Run the above code which will generate a series of outputs that will look like this:\n",
    "```\n",
    "Elements 1\tload factor 0.1250\tsize (bytes) 224\n",
    "```\n",
    "You will see the size of the hash table change several times in this output. Inspect\n",
    "these results, particularly looking at the # of elements in the hash table and the corresponding load factor\n",
    "before and after a resizing. Your task is to figure out the element number that will trigger\n",
    "the next resizing of the hash table, and to hypothesize on the load factor beyond which python\n",
    "initiates a resizing."
   ]
  },
  {
   "cell_type": "code",
   "execution_count": null,
   "id": "a7a17068-ff50-4696-bee2-56c20a1948f7",
   "metadata": {},
   "outputs": [],
   "source": []
  }
 ],
 "metadata": {
  "kernelspec": {
   "display_name": "Python 3 (ipykernel)",
   "language": "python",
   "name": "python3"
  },
  "language_info": {
   "codemirror_mode": {
    "name": "ipython",
    "version": 3
   },
   "file_extension": ".py",
   "mimetype": "text/x-python",
   "name": "python",
   "nbconvert_exporter": "python",
   "pygments_lexer": "ipython3",
   "version": "3.12.5"
  }
 },
 "nbformat": 4,
 "nbformat_minor": 5
}
