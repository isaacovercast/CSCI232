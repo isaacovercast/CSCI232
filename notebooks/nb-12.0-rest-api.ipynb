{
 "cells": [
  {
   "cell_type": "markdown",
   "metadata": {},
   "source": [
    "# Notebook 12.0 RESTful GBIF\n",
    "\n",
    "This notebook will introduce you to methods for access and parse data from online databases by accessing websites that have RESTful APIs. \n",
    "\n",
    "### Learning objectives\n",
    "- Gain familiarity with the GBIF biological database\n",
    "- Understand the structure of REST API requests\n",
    "- Be able to use the `request` Python library to query REST APIs"
   ]
  },
  {
   "cell_type": "markdown",
   "metadata": {},
   "source": [
    "### Required software\n",
    "Install the following with conda before running this notebook"
   ]
  },
  {
   "cell_type": "code",
   "execution_count": null,
   "metadata": {},
   "outputs": [],
   "source": [
    "# conda install pandas requests toyplot -c conda-forge"
   ]
  },
  {
   "cell_type": "code",
   "execution_count": null,
   "metadata": {},
   "outputs": [],
   "source": [
    "import toyplot\n",
    "import requests\n",
    "import pandas as pd"
   ]
  },
  {
   "cell_type": "markdown",
   "metadata": {},
   "source": [
    "### The design of REST APIs. \n",
    "The idea behind REST APIs is that data on a server (like a webpage) can be accessed with a consistent type of argument in the form of a URL, to query data which will then be returned in a form that is easy to analyze (usually json or xml), as opposed to being returned in messy HTML that needs to be parsed. Many websites have REST APIs, but some are much easier to use than others. "
   ]
  },
  {
   "cell_type": "markdown",
   "metadata": {},
   "source": [
    "### Limits\n",
    "Many REST APIs have limits on the way that you can use them. For example, the REST APIs for Twitter, GitHub, and Reddit require that you login in order to access data, and some sites will throttle how many requests you can make per hour. In this notebook we will be focusing on accessing data from websites that *are designed to be queried* -- they purposefully created an API for this purpose. It's worth noting that there exists other methods to parse data from the raw HTML representation of websites, but that is not our focus here. By contrast, sites with API access typically have data stored in a server database that allows efficient access to even enormous datasets with billions of records (e.g., Twitter)."
   ]
  },
  {
   "cell_type": "markdown",
   "metadata": {},
   "source": [
    "### Good REST APIs\n",
    "A good REST API will have good documentation explaining its intended usage. Two very good examples are the [USDA Bison API](https://bison.usgs.gov/#api) and the [Global Biodiversity Information Facility (GBIF) API](https://www.gbif.org/developer/summary). We'll focus on the latter in this notebook. The GBIF database is an international effort to collect all observation data on plants, animals, and fungi into a single place where it can be searched. It is actually a conglomeration of many separate databases, with data from museums and similar institutions all over the world. These APIs are free to use but request that you cite them if the data is used in a publication eventually. \n",
    "\n",
    "(Although GBIF is free to use it does limit the size of a request you can make at once, but there are ways around this as explained in its documentation.)"
   ]
  },
  {
   "cell_type": "markdown",
   "metadata": {},
   "source": [
    "### What does GBIF do?\n",
    "GBIF can be used to find specimen collection records, or other types of observation data, stored in museum type databases. The website offers a convenient way to request taxa by name, and to select specific research criteria. For example, if we wanted to find all specimens of bumblebees (genus *Bombus*) that were collected between 1910 and 1920 we could request this through the website. It will draw a nice map with their locations and you can download a table with coordinates of where they were collected. This is actually one of the best databases around, since it organizes the data quite easily for you to download, but nevertheless, we'll use it as our example to learn REST APIs. "
   ]
  },
  {
   "cell_type": "markdown",
   "metadata": {},
   "source": [
    "### REST APIs and websites\n",
    "It's worth noting that the GBIF website itself is designed around the REST API. When you fill in the search form on the site to tell it to search a particular species from a particular area, its response is collected from the database in the same way that your response would be when you make the same request using a URL passed to the API. The website simply takes this response (likely in JSON format) and renders it nicely into a table or map for you to view on the website. This is how many websites work!"
   ]
  },
  {
   "cell_type": "markdown",
   "metadata": {},
   "source": [
    "Even though GBIF has a very nice web interface, it is obviously often more efficient to be able to query this database programmatically, instead of having to type each name we wish to search, and click on several buttons. This can provide a much more powerful way of applying filters over many different types of searches. That is the idea behind REST APIs and the reason why GBIF provides one. "
   ]
  },
  {
   "cell_type": "markdown",
   "metadata": {},
   "source": [
    "### The base-url\n",
    "The base URL is the web address of the API. This is simply a string that we wil add arguments to in order to request particular types of data be returned to use from the database. For GBIF this is the following, which we'll store as a string for now. This base-url address is given to us right at the top of the [GBIF API documentation](https://www.gbif.org/developer/occurrence). You can see that it looks much like any other web address. "
   ]
  },
  {
   "cell_type": "code",
   "execution_count": null,
   "metadata": {},
   "outputs": [],
   "source": [
    "# store the base url as a string variable\n",
    "baseurl = \"http://api.gbif.org/v1/occurrence/search?\""
   ]
  },
  {
   "cell_type": "markdown",
   "metadata": {},
   "source": [
    "### How to query GBIF\n",
    "As you can see in the URL below, an API query just has additional arguments added to the baseurl. The string below searches for records with the name *Bombus*, which is the genus for bumblebees. We've added just the 'query' option 'q' and the name. How did I know that 'q' was valid parameter to this API? By reading the documentation.\n",
    "\n",
    "We'll see next how to make more complex queries. But first, copy the URL below (without the quotation marks around it) and paste it into a web browser. This will show you what the returned data looks like. It might look a bit different depending on which browser you are using (I recommend using firefox or chrome) but the underlying data is the same, and is called JSON data."
   ]
  },
  {
   "cell_type": "code",
   "execution_count": null,
   "metadata": {},
   "outputs": [],
   "source": [
    "# store a endpoint request as a string variable\n",
    "search_url = \"http://api.gbif.org/v1/occurrence/search?q=Bombus\""
   ]
  },
  {
   "cell_type": "markdown",
   "metadata": {},
   "source": [
    "### JSON format\n",
    "We will be using the `requests` library to get data from online, but before we do, let's talk a bit about how the data will be structured so we know what to expect. The data that you should see in your browser now is called JSON formatted data.  You'll notice that this format is almost identical to what a Python dictionary looks like. It is composed of key:value pairs. This will make it particularly easy to work with. "
   ]
  },
  {
   "cell_type": "markdown",
   "metadata": {},
   "source": [
    "### Requests\n",
    "\n",
    "[Documentation](http://docs.python-requests.org/en/master/user/quickstart/)\n",
    "\n",
    "The `requests` package work a bit like an automated web browser. We've used `requests` briefly in the past but now we'll start to use it more effectively. The main function we will call is `.get()`, which will send a GET command (a form of HTTP method that the web is built on) to the web address and return a Response Class object. We will then access attributes and functions of the Response instance to see if our request worked, and to parse the resulting text from it. Let's try this on our `search_url` string defined above. "
   ]
  },
  {
   "cell_type": "code",
   "execution_count": null,
   "metadata": {},
   "outputs": [],
   "source": [
    "# create a Response instance from a request\n",
    "response = requests.get(search_url)"
   ]
  },
  {
   "cell_type": "code",
   "execution_count": null,
   "metadata": {},
   "outputs": [],
   "source": [
    "# check that your request worked (200 = worked; other codes No))\n",
    "response.status_code "
   ]
  },
  {
   "cell_type": "code",
   "execution_count": null,
   "metadata": {},
   "outputs": [],
   "source": [
    "# or, run this to check if it worked.\n",
    "# This would return an error message if it didn't work (else None)\n",
    "response.raise_for_status()"
   ]
  },
  {
   "cell_type": "markdown",
   "metadata": {},
   "source": [
    "### Parse a Response\n",
    "Before when we've used `requests` we've parsed the results as plain text, since it was usually in a format that was easiest to work with as a string (we used requests in an early notebook to download iris-data-dirty.csv). In this case, we are going to access the data a bit differently, by instead  accessing it in JSON format. This is easily available from the object just like text is. The first is not very easily readable or parseable, whereas the second can be accessed and searched more easily. "
   ]
  },
  {
   "cell_type": "code",
   "execution_count": null,
   "metadata": {},
   "outputs": [],
   "source": [
    "# first 500 characters of the .text string from GBIF API query\n",
    "response.text[:500]"
   ]
  },
  {
   "cell_type": "markdown",
   "metadata": {},
   "source": [
    "As you can see above, the result is a string. But we want it to be parsed as a dictionary. The `.json()` function of the response object will do this for us."
   ]
  },
  {
   "cell_type": "code",
   "execution_count": null,
   "metadata": {},
   "outputs": [],
   "source": [
    "# or, get results as a dictionary (JSON converted)\n",
    "rdict = response.json()\n",
    "\n",
    "# get some quick info on the dictionary keys\n",
    "list(rdict.keys())"
   ]
  },
  {
   "cell_type": "markdown",
   "metadata": {},
   "source": [
    "### Parsing the results\n",
    "In GBIF our response can be parsed into a dictionary object using the JSON format, and this has six keys shown above. These are explained in the API docs, and correspond to information about what records are available for our query. However, it did not return *all* of the data for those records to us yet. That would be too easy. Instead, databases usually have limits on the amount of data from each request as a way of limiting the bandwidth they will need for sending the data, and to make it faster. For GBIF the default number, shown under the \"limit\" key, is 20. And the default starting position, shown under \"offset\" is 0. The total number of records is in \"count\". So for *Bombus*, as we show below, there are >2M records, but only records 1-20 were returned to us so far."
   ]
  },
  {
   "cell_type": "code",
   "execution_count": null,
   "metadata": {},
   "outputs": [],
   "source": [
    "## how many records are there for this query\n",
    "rdict[\"count\"]"
   ]
  },
  {
   "cell_type": "code",
   "execution_count": null,
   "metadata": {},
   "outputs": [],
   "source": [
    "## how many records were returned\n",
    "rdict[\"limit\"]"
   ]
  },
  {
   "cell_type": "code",
   "execution_count": null,
   "metadata": {},
   "outputs": [],
   "source": [
    "## starting from which record\n",
    "rdict[\"offset\"]"
   ]
  },
  {
   "cell_type": "markdown",
   "metadata": {},
   "source": [
    "### So where's the data?\n",
    "It's stored under the `results` key, and is returned as a list of dictionaries, where each dictionary is a record with lots of information. Below I show the first record from our search. "
   ]
  },
  {
   "cell_type": "code",
   "execution_count": null,
   "metadata": {},
   "outputs": [],
   "source": [
    "# here is the first record, it's also a dictionary\n",
    "rdict[\"results\"][0]"
   ]
  },
  {
   "cell_type": "markdown",
   "metadata": {},
   "source": [
    "There are too many columns for you see them all here. We will call .columns to see all the column names printed as a list."
   ]
  },
  {
   "cell_type": "code",
   "execution_count": null,
   "metadata": {},
   "outputs": [],
   "source": [
    "# load as a dataframe\n",
    "sdf = pd.json_normalize(rdict['results'])\n",
    "sdf.head()"
   ]
  },
  {
   "cell_type": "code",
   "execution_count": null,
   "metadata": {},
   "outputs": [],
   "source": [
    "sdf.columns"
   ]
  },
  {
   "cell_type": "markdown",
   "metadata": {},
   "source": [
    "### Building a request\n",
    "Here we add more arguments to further filter the results. To see which options are available, you can either look at the results from our existing calls so far, or you can read further into the API docs. Sometimes API docs will be incomplete though, so it can be useful to learn to try to infer which options are possible from looking at the results. A more complex search is accomplished by building a URL that has more key:value pairs each appended to the end of the URL, and separated by a \"&\" symbol. For large searches it begins to get difficult to write out by hand, and that is where `requests` comes in handy. Here we enter the additional arguments we want using a simple python dictionary into the entry 'params'."
   ]
  },
  {
   "cell_type": "code",
   "execution_count": null,
   "metadata": {},
   "outputs": [],
   "source": [
    "# previously we wrote this request by hand\n",
    "urlpath = \"http://api.gbif.org/v1/occurrence/search?q=Bombus\""
   ]
  },
  {
   "cell_type": "code",
   "execution_count": null,
   "metadata": {},
   "outputs": [],
   "source": [
    "# here we create the same urlpath using params\n",
    "response = requests.get(\n",
    "    url=\"https://api.gbif.org/v1/occurrence/search/\",\n",
    "    params={\"q\": \"Bombus\"}\n",
    ")\n",
    "\n",
    "# show url path\n",
    "print(response.url)"
   ]
  },
  {
   "cell_type": "markdown",
   "metadata": {},
   "source": [
    "### Narrowing request/responses\n",
    "If you looked closely at the results above you may have noticed that the records returned are *not* actually all for organisms in the genus Bombus. Instead results include things like *Chaetocercus bombus* and other organisms that happen to have \"bombus\" in their names.\n",
    "\n",
    "This is why its important to look closely at your data. Looking back at the documentation we can see that the 'q=something' search parameter returns a fuzzy hit to anything that has the query in its data. If we instead want to restrict to the genus Bombus we need to find the `genusKey` for Bombus. This can be found using the 'species' endpoint in the API. So let's take a side track to find this. Note we are searching a *different* baseurl now, to look in the 'species' path instead of the 'occurrence' path. \n",
    "\n",
    "The results below provide unique identifiers that are more reliable for searching the database. We will use the genusKey=1340278 for our next search of the occurrence database."
   ]
  },
  {
   "cell_type": "code",
   "execution_count": null,
   "metadata": {},
   "outputs": [],
   "source": [
    "# get taxonomy info for the genus Bombus\n",
    "res = requests.get(\n",
    "    url=\"https://api.gbif.org/v1/species/match/\",\n",
    "    params={\"genus\": \"Bombus\"},\n",
    ")\n",
    "res.json()"
   ]
  },
  {
   "cell_type": "markdown",
   "metadata": {},
   "source": [
    "Here is a different search for the genus *Pedicularis*. This is a group of plants that I study. You can see that it returns a different set of taxonomic keys. Feel free to try searching a taxon of your choice."
   ]
  },
  {
   "cell_type": "code",
   "execution_count": null,
   "metadata": {},
   "outputs": [],
   "source": [
    "# get taxonomy info for the genus Pedicularis\n",
    "res = requests.get(\n",
    "    url=\"https://api.gbif.org/v1/species/match/\",\n",
    "    params={\"genus\": \"Pedicularis\"},\n",
    ")\n",
    "res.json()"
   ]
  },
  {
   "cell_type": "markdown",
   "metadata": {},
   "source": [
    "### Building more complex queries\n",
    "\n",
    "Below I show the URL for when we add the requirement that a record have coordinate data, and for when we add additional arguments to raise the limit for the number of records returned. The max records at a time (limit - offset) is 300. Above that you need to increment the offset to search higher values. You can see that the URL is simply appending additional queries to the end after the ? symbol to build more complex queries."
   ]
  },
  {
   "cell_type": "code",
   "execution_count": null,
   "metadata": {},
   "outputs": [],
   "source": [
    "# add requirement that the record have coordinate data\n",
    "res = requests.get(\n",
    "    url=\"https://api.gbif.org/v1/occurrence/search/\",\n",
    "    params={\n",
    "        \"genusKey\": 1340278, \n",
    "        \"hasCoordinate\": \"true\",\n",
    "    }\n",
    ")\n",
    "res.url"
   ]
  },
  {
   "cell_type": "code",
   "execution_count": null,
   "metadata": {},
   "outputs": [],
   "source": [
    "# request records 0-100\n",
    "res = requests.get(\n",
    "    url=\"https://api.gbif.org/v1/occurrence/search/\",\n",
    "    params={\n",
    "        \"genusKey\": 1340278, \n",
    "        \"hasCoordinate\": \"true\",\n",
    "        \"offset\": 100,\n",
    "        \"limit\": 20,\n",
    "    }\n",
    ")\n",
    "res.url"
   ]
  },
  {
   "cell_type": "markdown",
   "metadata": {},
   "source": [
    "### A complex search\n",
    "Here I request all Bombus records from 1900-1910 that are associated with a preserved specimen (as opposed to HUMAN_OBSERVATION or FOSSIL_SPECIMEN), has spatial data, and is in the US. The 'count' shows us that there are >6000 records meeting these requirements. This individual search returned only 20 of these results though, and at most can do 300 at a time. So we will need to use a trick to get all the records."
   ]
  },
  {
   "cell_type": "code",
   "execution_count": null,
   "metadata": {},
   "outputs": [],
   "source": [
    "res = requests.get(\n",
    "    url=\"https://api.gbif.org/v1/occurrence/search/\",\n",
    "    params={\n",
    "        \"genusKey\": 1340278, \n",
    "        \"year\": \"1900,1910\", \n",
    "        \"basisOfRecord\": \"PRESERVED_SPECIMEN\",\n",
    "        \"hasCoordinate\": \"true\",\n",
    "        \"hasGeospatialIssue\": \"false\",\n",
    "        \"country\": \"US\",\n",
    "    },\n",
    ")\n",
    "\n",
    "print(res.json()[\"count\"])"
   ]
  },
  {
   "cell_type": "markdown",
   "metadata": {},
   "source": [
    "### Combining many searches\n",
    "If we wanted to collect all records for a given search then we need to increment the \"offset\" argument until we reach the end of the records. Each is returned as a list of dictionaries, so we can just join all of those lists together and return them. That sounds a bit complex, so let's to it in two parts, first we'll write a function to fulfill a single request, and then a function to call many requests."
   ]
  },
  {
   "cell_type": "code",
   "execution_count": null,
   "metadata": {},
   "outputs": [],
   "source": [
    "def get_single_batch(genusKey, year, offset=0, limit=20):\n",
    "    \"\"\"\n",
    "    Returns a GBIF REST query with records between offset\n",
    "    and offset + limit in JSON format. The genusKey and \n",
    "    year interval can be changed.\n",
    "    \"\"\"\n",
    "    res = requests.get(\n",
    "        url=\"https://api.gbif.org/v1/occurrence/search/\",\n",
    "        params={\n",
    "            \"genusKey\": genusKey,\n",
    "            \"year\": year,\n",
    "            \"offset\": offset,\n",
    "            \"limit\": limit,\n",
    "            \"hasCoordinate\": \"true\",\n",
    "            \"country\": \"US\",\n",
    "        }\n",
    "    )\n",
    "    return res.json()"
   ]
  },
  {
   "cell_type": "code",
   "execution_count": null,
   "metadata": {},
   "outputs": [],
   "source": [
    "# test single batch function\n",
    "jdata = get_single_batch(\n",
    "    genusKey=3171670,\n",
    "    year=\"1990,2020\",\n",
    "    offset=0, \n",
    "    limit=20\n",
    ")\n",
    "\n",
    "# how many results were fetched?\n",
    "print(len(jdata[\"results\"]))"
   ]
  },
  {
   "cell_type": "code",
   "execution_count": null,
   "metadata": {
    "scrolled": true
   },
   "outputs": [],
   "source": [
    "# did we reach the end of the records?\n",
    "jdata[\"endOfRecords\"]"
   ]
  },
  {
   "cell_type": "code",
   "execution_count": null,
   "metadata": {},
   "outputs": [],
   "source": [
    "def get_all_records(genusKey, year):\n",
    "    \"\"\"\n",
    "    Iterate requests over incremental offset positions until\n",
    "    all records have been fetched. When the last record has\n",
    "    been fetched the key 'endOfRecords' will be 'true'. Takes\n",
    "    the API params as a dictionary. Returns result as a list\n",
    "    of dictionaries.\n",
    "    \"\"\"\n",
    "    # for storing results\n",
    "    alldata = []\n",
    "    \n",
    "    # continue until we call 'break'\n",
    "    offset = 0\n",
    "    while 1:\n",
    "        \n",
    "        # get JSON data for a batch \n",
    "        jdata = get_single_batch(genusKey, year, offset, 300)\n",
    "        \n",
    "        # increment counter by 300 (the max limit)\n",
    "        offset += 300\n",
    "        \n",
    "        # add this batch of data to the growing list\n",
    "        alldata.extend(jdata[\"results\"])\n",
    "        \n",
    "        # stop when end of record is reached\n",
    "        if jdata[\"endOfRecords\"]:\n",
    "            print(f'Done. Found {len(alldata)} records')\n",
    "            break\n",
    "            \n",
    "        # print a dot on each rep to show progress\n",
    "        print('.', end='')\n",
    "        \n",
    "    return alldata"
   ]
  },
  {
   "cell_type": "code",
   "execution_count": null,
   "metadata": {},
   "outputs": [],
   "source": [
    "# call function to search over all offset values until end. \n",
    "# THIS MAY TAKE A FEW MINUTES TO RUN\n",
    "jdata = get_all_records(1340278, \"1900,1902\")"
   ]
  },
  {
   "cell_type": "markdown",
   "metadata": {},
   "source": [
    "### The full data"
   ]
  },
  {
   "cell_type": "code",
   "execution_count": null,
   "metadata": {},
   "outputs": [],
   "source": [
    "# convert to a data frame\n",
    "df = pd.json_normalize(jdata)"
   ]
  },
  {
   "cell_type": "code",
   "execution_count": null,
   "metadata": {
    "scrolled": false
   },
   "outputs": [],
   "source": [
    "# keys (columns) in the dataframe (there are many!)\n",
    "list(df.columns)"
   ]
  },
  {
   "cell_type": "code",
   "execution_count": null,
   "metadata": {},
   "outputs": [],
   "source": [
    "# view just the columns we're interested in for now.\n",
    "sdf = df[[\"species\", \"year\", \"decimalLatitude\", \"decimalLongitude\"]]\n",
    "sdf.head()"
   ]
  },
  {
   "cell_type": "code",
   "execution_count": null,
   "metadata": {},
   "outputs": [],
   "source": [
    "# how many records?\n",
    "sdf.shape"
   ]
  },
  {
   "cell_type": "code",
   "execution_count": null,
   "metadata": {},
   "outputs": [],
   "source": [
    "# which unique species?\n",
    "print(sdf.species.unique())"
   ]
  },
  {
   "cell_type": "code",
   "execution_count": null,
   "metadata": {},
   "outputs": [],
   "source": [
    "# plot the number of each species in order (hover over bars for names)\n",
    "sp_counts = df.species.value_counts()\n",
    "toyplot.bars(sp_counts, height=350, title=sp_counts.index);"
   ]
  },
  {
   "cell_type": "markdown",
   "metadata": {},
   "source": [
    "Hover over the bars in the plot above to see the names of species. From this we can easily see which species have the most records, and which are more rare."
   ]
  },
  {
   "cell_type": "markdown",
   "metadata": {},
   "source": [
    "## Assignment: \n",
    "\n",
    "### Task 1: \n",
    "Write a Class object called `Records` that can be given a taxon query and a range of years and will return a class instance with all results from GBIF for the queried range using the same params from our example above, but allowing the 'genusKey' and 'year' arguments to be changed. You can reuse the code above to create the core functions for your object, and modify it further if you wish. Look at the example below for the intended usage of your `Records` class object. It should do the following:\n",
    "\n",
    "1. Store the genusKey and year params during init().\n",
    "2. Write the function `get_single_batch` to take optional arguments that limit the number of results, and have it *return* a JSON result as a dictionary.\n",
    "3. Write the fuction `get_all_records` to store the JSON results to the instance object, storing JSON as a dictionary to `self.json` and as a dataframe to `self.df`. \n"
   ]
  },
  {
   "cell_type": "code",
   "execution_count": null,
   "metadata": {},
   "outputs": [],
   "source": [
    "# skeleton of a class\n",
    "\n",
    "class Records:\n",
    "    def __init__(self, genusKey=None, year=None):\n",
    "        \n",
    "        # store input params\n",
    "        self.genusKey = genusKey\n",
    "        self.year = year\n",
    "        \n",
    "        # will be used to store output results\n",
    "        self.df = None\n",
    "        self.json = None\n",
    "        \n",
    "    def get_single_batch(self, offset=0, limit=20):\n",
    "        \"returns JSON result for a small batch query\"\n",
    "        # ...\n",
    "        \n",
    "    def get_all_records(self):\n",
    "        \"stores result for all records to self.json and self.df\"\n",
    "        # ..."
   ]
  },
  {
   "cell_type": "markdown",
   "metadata": {},
   "source": [
    "When finished, you should be able to use your class object in the following way. This means that after writing your Class object, test it using the code below and make sure it gives proper results, otherwise keep hacking away at it. \n",
    "\n",
    "**You need to write the Records class before executing the code below**"
   ]
  },
  {
   "cell_type": "code",
   "execution_count": null,
   "metadata": {},
   "outputs": [],
   "source": [
    "# create instance by entering query and a range of years as integers\n",
    "rec = Records(genusKey=1340278, year=\"1980,1985\")\n",
    "\n",
    "# show a small result\n",
    "print(rec.get_single_batch(offset=0, limit=10))\n",
    "\n",
    "# get all records\n",
    "rec.get_all_records()\n",
    "\n",
    "# access all of the returned records as a dataframe \n",
    "# (here asking for the shape to see how many records there are)\n",
    "rec.df.shape"
   ]
  },
  {
   "cell_type": "markdown",
   "metadata": {},
   "source": [
    "### Task 2: \n",
    "Once you have tested your Record class object in this notebook and it is working, follow these instructions to create a Python package with the following file structure:\n",
    "\n",
    "```\n",
    "records/\n",
    "├── setup.py\n",
    "└── records/\n",
    "    ├── __init__.py\n",
    "    └── records.py\n",
    "```\n",
    "\n",
    "1. Create a new GitHub repo called 'records'.\n",
    "2. Clone it to your computer.\n",
    "3. Create a subfolder called records (`records/records/`)\n",
    "4. Create an init file (`records/records/__init__.py`)\n",
    "5. Create a module called records.py (`records/records/records.py`)\n",
    "6. Open the folder in your text editor (vscode or sublime)\n",
    "7. Copy your Records class object from here to records.py.\n",
    "8. Create a setup.py script to make your package installable (`records/setup.py`). \n",
    "9. Run `pip install -e .` from `records/` to install your package locally. \n",
    "10. Test that your package is installed and working by importing your new package (called records) in the cell below and running the code. Try to make the Records class object importable in this way. (You may need to restart your notebook). Seek help if you get stuck."
   ]
  },
  {
   "cell_type": "code",
   "execution_count": null,
   "metadata": {},
   "outputs": [],
   "source": [
    "# import your library\n",
    "import records\n",
    "\n",
    "# get an instance given some query parameters\n",
    "rec = records.Records(genusKey=1340278, year=\"1990,2000\")\n",
    "\n",
    "# access the dataframe results\n",
    "print(rec.get_single_batch())"
   ]
  },
  {
   "cell_type": "markdown",
   "metadata": {},
   "source": [
    "### [Optional] Advanced challenge\n",
    "If you accomplished this task easily then try to add an additional function to your package to allow entering the genus as a string, such that your code will search the taxonomic database to automatically find the integer genusKey to use in the occurrence database query, instead of requiring you to enter it as a numeric genusKey."
   ]
  },
  {
   "cell_type": "markdown",
   "metadata": {},
   "source": [
    "### Assessment\n",
    "You will be graded on the `records` class package in your GitHub repo. This notebook is only for instructions and learning and does not need to be submitted."
   ]
  }
 ],
 "metadata": {
  "kernelspec": {
   "display_name": "Python 3",
   "language": "python",
   "name": "python3"
  },
  "language_info": {
   "codemirror_mode": {
    "name": "ipython",
    "version": 3
   },
   "file_extension": ".py",
   "mimetype": "text/x-python",
   "name": "python",
   "nbconvert_exporter": "python",
   "pygments_lexer": "ipython3",
   "version": "3.8.6"
  }
 },
 "nbformat": 4,
 "nbformat_minor": 2
}
