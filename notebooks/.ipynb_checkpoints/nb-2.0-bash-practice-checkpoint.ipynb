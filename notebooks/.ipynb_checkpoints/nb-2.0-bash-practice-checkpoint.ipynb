{
 "cells": [
  {
   "cell_type": "markdown",
   "metadata": {},
   "source": [
    "# Notebook 2.0: bash assessment\n",
    "\n",
    "### Learning objectives\n",
    "This notebook will demonstrate several introductory bash scripting skills in the context of bioinformatic processing of genomic data. You will not need to be familiar with genomics to complete the notebook. By the end of this exercise you will:\n",
    "\n",
    "1. Recognize that a genome can be described using text data.  \n",
    "2. Know how to execute bash code in jupyter notebooks.  \n",
    "3. Recognize there are many useful unix tools for manipulating text/genomic data."
   ]
  },
  {
   "cell_type": "markdown",
   "metadata": {},
   "source": [
    "### What to do when you get stuck?\n",
    "\n",
    "Throughout this course you will surely at some point try to write code to answer a problem and it will return an error message instead of the correct answer. This is expected. It happens all the time. And it is a great learning opportunity. When you see an error message be sure to read it carefully. Some parts of the message may look very confusing, these likely represent a *stack trace*, which attempts to tell you *which part of the code is causing a problem*. In addition to this, you will usually get an *error message*. The message tells you the type of error. \n",
    "\n",
    "To learn how to solve a problem that is causing an error you can first try modifying your code to see whether there is an obvious fix, such as a typo or syntax error. If you still can't solve the problem, try googling the error message to find out what it means, and to see how other people have encountered and solved similar problems.\n",
    "\n",
    "Every error has happened before. If you encountered it, then millions of other people have surely encountered the same problem as well. You will be surprised how often you can find the answer you are looking for online. **The best trick to learning programming is to learn *how* to ask google the right questions to find your answers.**"
   ]
  },
  {
   "cell_type": "markdown",
   "metadata": {},
   "source": [
    "<div class=\"alert alert-success\">\n",
    "    Reminder: <b>Questions</b> that require you to respond using Markdown (text) or <b>Actions</b> that require you to edit and execute code to produce new results will be highlighted on a green background. \n",
    "</div>"
   ]
  },
  {
   "cell_type": "markdown",
   "metadata": {},
   "source": [
    "### DNA as text\n",
    "To look at genomes means to look at **text files**. That's right, genomic data can be represented as simple text. The *genome sequence* can be represented using the letters <span style=\"color:red;\">A</span>, <span style=\"color:green;\">C</span>, <span style=\"color:blue;\">G</span>, and <span style=\"color:darkorange;\">T</span> to refer to the nucleotides (molecules) that make up DNA. Pretty convenient, huh? In addition to the sequence of a genome a published reference assembly usually contains several additional files containing meta information about the genome, we'll take a look at this file format as well.\n",
    "\n",
    "Because genomic data files are typically large, analyzing or even just looking at genomic data requires learning to use efficient software tools for working with large text files. It may surprise you to learn that many of the best tools for this are actually the basic command line tools developed for unix-based computers. Computer file systems are also written in text, and so many of the most common and basic programming tools are designed specifically to be able to very efficiently read, edit, or analyze text. "
   ]
  },
  {
   "cell_type": "markdown",
   "metadata": {},
   "source": [
    "### Jupyter notebooks\n",
    "Jupyter notebooks are a powerful tool for combining code and written text together to create documents for sharing your work. In science we refer to this as *reproducibility* -- creating documents that others can use to reproduce your work entirely. In this course, we will use notebooks to share code with you for completing assignments; you can run the code, learn from it, and even edit the code or text. Upon completing each notebook, you will have entered in new values and produced new results, which you can then save, download and submit as your completed assignment for us to grade. Instructions for this will always be found at the bottom (end) of the notebook."
   ]
  },
  {
   "cell_type": "markdown",
   "metadata": {},
   "source": [
    "### Bash and Python \n",
    "\n",
    "The primary coding language used in Jupyter notebooks is Python. However, other languages can be used as well. In this class we will primarily use just two languages: **Python** and **Bash**. (We will cover bash briefly first and then learn Python in more depth.)\n",
    "\n",
    "[Bash](https://en.wikipedia.org/wiki/Bash_(Unix_shell)) is a language for interacting with a **terminal** (it is a command line language). We will primarily use bash to run *executable computer programs* in a terminal. Those program themselves may be written in a variety of computer languages, often C, fortran, or even Python. There are several languages similar to bash for running commands in a terminal, of which bash is the most commonly used. "
   ]
  },
  {
   "cell_type": "markdown",
   "metadata": {},
   "source": [
    "### Running bash in jupyter\n",
    "\n",
    "In jupyter you can open a terminal at any time to execute bash code directly in it if you wish. We demonstrated this in class. However, for the purpose of some of your assignments we will have you instead execute bash code inside of jupyter notebooks. Again, this is for the sake of reproducibility, notebooks keep a record of the code that you execute, so it is easy to share, and for our purposes, to hand in as an assignment. \n",
    "\n",
    "To say that we are going to \"run a command line program using bash inside of a jupyter notebook\" is describing a [multi-layered](https://tenor.com/view/shrek-onions-gif-5703242) process: jupyter actually uses Python to connect to a temporary bash terminal, which then runs the command line program, captures the output, and returns it to jupyter, which displays the output in your notebook. This sounds complicated, but it's all happening behind the scenes. To run bash code in the notebook all you have to do is append  `%%bash` to the top of a code cell. "
   ]
  },
  {
   "cell_type": "markdown",
   "metadata": {},
   "source": [
    "## Unix command line tools\n",
    "\n",
    "Most of the tools we are going to use in this tutorial will be available on any \\*nix based computer system (e,g., Linux, MacOSX), although the specific version that comes pre-installed on your system  may vary slightly (e.g., you would replace `zcat` on linux with `gunzip -c` on Mac). \n",
    "\n",
    "\n",
    "\n",
    "In this notebook we will explore the following unix programs. There are many more that we do not mention here, and there are many tutorials available on-line to learn more about them. \n",
    "\n",
    "1. `pwd`: print working directory  \n",
    "2. `mkdir`: make a new directory  \n",
    "3. `ls`: list contents in a directory  \n",
    "4. `wget`: download from a URL (download or sub for `curl` on Mac)   \n",
    "5. `head`: print first N lines of a file  \n",
    "6. `cat/zcat`: stream/read through a file line by line  \n",
    "7. `grep`: select lines from a file based on matching characters  \n",
    "8. `cut`: select elements from text based on a delimiter/separator  \n",
    "9. `wc`: count words, lines, or bytes in a file  \n",
    "10. `awk`: match a pattern and perform action on conditional clause  "
   ]
  },
  {
   "cell_type": "code",
   "execution_count": 1,
   "metadata": {},
   "outputs": [
    {
     "name": "stdout",
     "output_type": "stream",
     "text": [
      "/home/deren/Documents/hack-the-planet/notebooks\n"
     ]
    }
   ],
   "source": [
    "%%bash\n",
    "# pwd: 'print working directory'\n",
    "pwd"
   ]
  },
  {
   "cell_type": "markdown",
   "metadata": {},
   "source": [
    "### The format of command line tools\n",
    "As we discussed in class, almost all command line programs follow a similar syntax (set of rules) for how to enter arguments to them to make them run. You always start with a program name, and then optionally with a set or arguments (flags) that start with a dash. Finally, some programs require input (target) that they process to return a result. Below are some examples of this syntax. Next we will try it out with some interactive examples. \n",
    "\n",
    "\n",
    "```bash\n",
    "# program followed by optional flags and optional target\n",
    "<program name> [-option1] [-option2] [target]\n",
    "\n",
    "# example, to call the program ls (list)\n",
    "ls\n",
    "\n",
    "# to call the program with a target (location to list)\n",
    "ls ../notebooks\n",
    "\n",
    "# to call the program with an option and target\n",
    "ls -l ../notebooks\n",
    "```"
   ]
  },
  {
   "cell_type": "markdown",
   "metadata": {},
   "source": [
    "### Create a new directory to store downloaded genome files\n",
    "Here we will use the `mkdir` command to create a new directory (we'll add the `-p` option so that it doesn't matter if the directory already exists.) In this code block we also use the `ls` command with the option `-l` to show the contents of our current directory as a list. We can run as many bash commands as we want on separate lines of the same code block. However, when creating notebooks of your own it is generally good practice to break up code into atomized steps. From the output of `ls` below you can see that the new directory we created (genomes/) is now located inside of our current directory (called notebooks/), and is alongside several notebook files."
   ]
  },
  {
   "cell_type": "code",
   "execution_count": 2,
   "metadata": {},
   "outputs": [
    {
     "name": "stdout",
     "output_type": "stream",
     "text": [
      "total 88\n",
      "drwxrwxr-x 2 deren deren  4096 Jan 13 12:50 genomes\n",
      "-rw-rw-r-- 1 deren deren 10184 Jan 11 12:24 nb-1.1-jupyter.ipynb\n",
      "-rw-rw-r-- 1 deren deren 70208 Jan 13 12:49 nb-2.0-bash-practice.ipynb\n"
     ]
    }
   ],
   "source": [
    "%%bash\n",
    "# make new directory called genomes in our current directory\n",
    "mkdir -p ./genomes/\n",
    "\n",
    "# show everything in my current directory as a list\n",
    "ls -l"
   ]
  },
  {
   "cell_type": "markdown",
   "metadata": {},
   "source": [
    "### Where do we get genomic data?\n",
    "When writing reproducible code it is great to be able do download data directly from the internet, since this way any user can access files easily. Here we will download example data from a public database called [NCBI](https://www.ncbi.nlm.nih.gov/home/about/).\n",
    "\n",
    "Open this link in a new tab [https://ftp.ncbi.nlm.nih.gov/genomes/refseq/vertebrate_mammalian/Homo_sapiens/reference/](https://ftp.ncbi.nlm.nih.gov/genomes/refseq/vertebrate_mammalian/Homo_sapiens/reference/) to view an NCBI FTP site where the reference Human genome is hosted. As you can see in the URL we are visiting a site that is structured like a set of folders on a computer system, and in which we are jumping to `vertebrate_mammalian/Homo_sapiens`, which suggests that there are many other vertebrate mammalian genomes on this site as well. At the new page click on the link for `GCF_000001405.39_GRCh38.p13/`. This is the latest published human reference genome. That's right, assemblies are continually being updated as new data and new software tools become available, or as new individuals are sequenced.\n",
    "\n",
    "As you can see there are many files containing different aspects of genome information. Some describe how the genome was assembled, others how many genes there are and where they are located. The assembled **genome sequence** itself is in a **fasta file**. This is the file we are interested in right now. *Do not click to download yet*, we will instead use a command line program to download files. This is generally good form, since you'll leave a record in your notebook of exactly where you got your data from (i.e., it is good for reproducibility)."
   ]
  },
  {
   "cell_type": "markdown",
   "metadata": {},
   "source": [
    "### Download a few (small) reference genome fasta files from public URLs\n",
    "We will use the unix command `wget` to retrieve data from a URL, with the option `-O` (capital o, not a zero) to designate the location where we want the file to be saved (for simplicity we also rename the files to a simpler name: virus, yeast, and chicken). Let's also add the option `-q` (quiet) to repress progress messages from being printed during the downloads (unless your download fails, then remove the `-q` to see the error message). This command will take somewhere between 30 seconds and several minutes depending on your internet speed."
   ]
  },
  {
   "cell_type": "code",
   "execution_count": 3,
   "metadata": {},
   "outputs": [],
   "source": [
    "%%bash\n",
    "# to make this code more readable we will save the URLs as variables\n",
    "url1=\"https://ftp.ncbi.nlm.nih.gov/genomes/refseq/viral/Pandoravirus_quercus/latest_assembly_versions/GCF_003233895.1_ASM323389v1/GCF_003233895.1_ASM323389v1_genomic.fna.gz\"\n",
    "url2=\"https://ftp.ncbi.nlm.nih.gov/genomes/refseq/fungi/Saccharomyces_cerevisiae/reference/GCF_000146045.2_R64/GCF_000146045.2_R64_genomic.fna.gz\"\n",
    "url3=\"https://ftp.ncbi.nlm.nih.gov/genomes/refseq/vertebrate_other/Gallus_gallus/representative/GCF_000002315.6_GRCg6a/GCF_000002315.6_GRCg6a_genomic.fna.gz\"\n",
    "\n",
    "# now we can run the wget commands by referring to these variables\n",
    "wget $url1 -q -O ./genomes/virus.fna.gz\n",
    "wget $url2 -q -O ./genomes/yeast.fna.gz\n",
    "wget $url3 -q -O ./genomes/chicken.fna.gz"
   ]
  },
  {
   "cell_type": "markdown",
   "metadata": {},
   "source": [
    "### The format of the genome files\n",
    "We just downloaded three `fasta files`. Such files will usually have a suffix like `.fna` or `.fasta`. You can see that all of our files have the ending `.fna.gz`, meaning that they are in fasta format, but they are also *gzip compressed* (.gz). Compression is used to store large files more efficiently. When files are compressed we sometimes need to use additional tools to decompress them before reading the contents. Many genomic software tools are designed to work with compressed files so that we can just enter the compressed file into the program directly. Here we will leave the files compressed to save disk space (e.g. the compressed Chicken genome is about 0.3 Gb) and simply decompress their contents on the fly as we read/stream it.    "
   ]
  },
  {
   "cell_type": "code",
   "execution_count": 4,
   "metadata": {},
   "outputs": [
    {
     "name": "stdout",
     "output_type": "stream",
     "text": [
      "total 319M\n",
      "-rw-rw-r-- 1 deren deren 314M Feb 22  2019 chicken.fna.gz\n",
      "-rw-rw-r-- 1 deren deren 588K Jun 24  2018 virus.fna.gz\n",
      "-rw-rw-r-- 1 deren deren 3.7M Apr  9  2018 yeast.fna.gz\n"
     ]
    }
   ],
   "source": [
    "%%bash\n",
    "# show the contents of the genomes directory\n",
    "ls -lh genomes"
   ]
  },
  {
   "cell_type": "markdown",
   "metadata": {},
   "source": [
    "### Look at the first couple lines of the compressed file\n",
    "A convenient tool for looking at just a few lines from a large file is the command `head`. We can pass this an additional argument to tell it how many lines to show us from the top of the file. Let's start by looking at the first 2 lines of one of the compressed genome files...\n",
    "\n",
    "It looks like gibberish, right? Well, that's what compressed files look like if you don't decompress them."
   ]
  },
  {
   "cell_type": "code",
   "execution_count": 5,
   "metadata": {},
   "outputs": [
    {
     "name": "stdout",
     "output_type": "stream",
     "text": [
      "\u001f�\b\u0000\u0000\u0000\u0000\u0000\u0000\u0003��ͮeˎ�׏��\u00070\f",
      "\u0019\u0006��\u0000�\r",
      "�\f",
      "7�7\u0004�B\u0010 �����\\��\r",
      "�ڙ�B*���͓�{��\u00193�\u001c",
      "\u001c",
      "?������_����_����o������\u001f�����������?�?��������������_��������������_�v2�:2�+������?����痝��������������_���ů��_ׯ?��矟�?�y��?~������\u0017�����_���\u0014y��ߍ�\u0013�ϒ�o\u001b���������Z5o\u0015\u001d",
      "�\u0017>\u001f��}�_o\u001c",
      "q_��}~�ƯO��\u0005>?��۟����\u001f���\u0005r��_|���P����6�\u0016ٿ^��G�������u?Wv�+q_}~�ן�}�2�{w򮟯\\yoȯ\u001f��u�\\�������y����M��S��u�I��>s�>�K���e�\u000b",
      "��C�|6�սP�7���\u001b�w}ܗ:5ˠ�Ku�\u0002�s�Z����?�|���&�'��\r",
      "��ޅ__y>�\\�{i�^����5Ss�����+-s>�窅�z�W��f��\u0000wi��믏\u0010�~�i�u���sa>����c~\u0015���k\u001d",
      "~��������O����\u0015�ź�%긏��|���]������g\u0016��A�ס��>?���y\">\u0017*�����_�7�Q�k�]\u0010�~y���\u0007�������;��ޛ�w�7����^�.��ϳ|��^�{\u001d",
      "??����׾O����e�-$Y��'f\u001b鹎'�u�g�y����;��a���Z�9�\u000f���/�:݇��:��\r",
      ">wFW�s��:�\u0016�e�kq?Q�Z���ι�fv��W�\u0012\u001e",
      "���w\u001d",
      "���Lz���Og{�����}V�]ح�,{\u001e",
      "��\u0013���.��\r",
      "γp����\\��9�K�u�_r^2��%�^�s'�\\Z���\u0017�\u0017|�3��]\\����>��3������G^���pE�&�/Z�����\u001aƬ3]�ϝ��>kΗ�?9������CK��\u000f�}�\"Y[ٳ��|����� �\u001f������D�������~���aΦ7�i��W�\u0007�1{��{����ܔ�\r",
      "��9z\u0010�\u0019<;s��!�z�>\u001f��z*����پ政\u001b�<��\u0019s��6;w!?[]��GR/3\u001f�>z9߬���/�#Z'F�BSwn�p�͙��ݏO0�o�^���\r",
      "L7�sE���^�}��1:\u0017��\u001e",
      "�\u001a�W�^֘\u001bpO�O�s\u000f�Y�S)i/�Ǽ�����\u0010f冎��.E�p+��\f",
      "sat\t�8W���9�������_���҃p���\u001a=�O�50\u000fƧZ�\"��)f�~�I�������0�2�����cN�3O�\u001c",
      "�A��j4�\u0004�ÿg\u001d",
      "��S�\u0014�7�\u001a}��=��Ϧ����\u0016FS\u001e",
      "��y`�9�ER�KG��\u001a�V �[j�Pfv�L<ߣ���s��3\u000f�j0�M�@~;T���A��|�Y\f",
      "�'��\u001c",
      "�4'�t\u00021\u0005��u�X���Tm*Y?��v\u000b",
      "�©)/S��~�{�B�eQq�\\����ve�7<S\b�-*���\u0001�/�z\u0016j���-qgU7\u000b",
      "*�n�\u000et\u000b",
      "�9^S���'�ccz��-�C>or��35�lN^�=��>��Vsu����\r",
      "\u001a�LU�~줊����~y�������7�sA���H��?�\u001e",
      "�,�)�������8\u001f1�[n\u0019v��Yms�|�͙�s��YvS\u0004kS�EJ�w�\u00113�7u0���Iցv�T�\u0016zz�ǾW�������T_�I��)�[pSb����㾠�'���\"�\u001d",
      "���O�4���}�9'��sh��|\u001e",
      "��&�s1���\u00178����t�\u001e",
      "������=��\u0013���?w��\u001e",
      "r��[��)Y�0��g����z��n���X��4\u001f��y��>���o3۠j��\u000f١\u0013���~N?��jWR�|jl5����)�|��O5e��N<']�\u0002�u8S4�S;��|\u0012����RhC΃�7�Y��>�~�UJ\u0004�Y��v|�U\u000f�~h�������\\�{�\u000fC\u0017�x��T�.�I�\u000f�}Pu��\u0003��`��|�\u0000_��0�Z�\u0013g�����\u0018\u0000\u001b�s+��O��)��,�2Рb�R�-�v��h���Ĭ�Њ��S���D��lC[+�s�/�RNm3%`ꙘE�\u0005��إIs�̖G���S�P+��]K�R\u0016_�^�i��<������AZk�Нjk����Օ�Z��Ds��\"�\u0007�k��~0g_�&'pi�@\u0015�:R�霅�6G���~\u0001�r75=��9��L�����a����9FK{�צ\u0018����}.SO���ؒWO�y��9\\��RE�nt�\u0005�.��ҏ�>�g��OY�����~=��>�-԰x�:~�����7��,�\u000b",
      "�MO�������ʜ{\u001aiCת�;�\u001f��Q�\u0005��\u0016l��@��TB�\u0014�q��9\u0002㖍=�nS���@ko��iU�\u0003�WҲh�\u000e�A㼞n���t\u0013.�>m�N\u001fzK�2\u0001�<�e\u00034�Z(73�}�<(�^/U�����)\u0001��\u0019�ZU�8�DQ\u0007f�j��mS���PU�=��|+UHs\u0007\u0005��\u001a5�i�\u0005o�/��)��Y.\u0015�%�b�Jp�چ��V\u000e�b\u0003\u0012S��F�\u000edj�A�TF��O5\u0018���� �s��`NgSS�-\u0018\u0002�x\u001b�i6�\u0001���\u0011�6�\u001bz���Ã\u0005�)�g�j�]��|~�T\u000fR�=>�cM��F���\u0016��B�\u000b",
      "��¾7%��<E@���UccN\u0003�\u0001\u000e3wq^�V\u000e���y\u000f\u000b",
      "V�\u0010���5�A\u0007/>8�B�\u0003\u0013��\u001c",
      "T\u0000ݥ�bNzc�\u0003(eh+n5�4�\u00033��\u0011���yVT��'�3�i\u001b�*r�{1\r",
      "��\u0000�\u0010�t�⿡��U��t�sݦ��ES8}N��<\u0014ٺp�Wk�CKR:\t��J�|���]j\u000e��o���n����n\r",
      "k\n",
      "\b\\��̢��\u0012<ͭ�d0�Y���M���Ou@]\u0010C �\u001c",
      "C|ܝl\r",
      "B����\u000b",
      "�\r",
      "\u0010�n��ۧ4\u0007vS��]LUt�N��<�\u0002���\u0016���g\u0010%5ڪH\u0006\u0010�vh\u000f��3̰I �,,\r",
      "\u0001?_٫iVV̿栗^�\u0004��`쯥\u0017:�4~�W�?�/�s�t��M3+!$y˂�g֖�����k?OX��\u0001#9FR��nۼ��B\u0017�=��h��{KS����bJi]��P��k�K�y�Nj[�g�\u0006��R$�\u001a1����\u000e^�w��R^�U<oS1jɫ'�\u001b�͌�?ep�����\u0001!L\u001d",
      "�-�S���skC)w�M�;�*�ѩȊ\u0012��e\u001f\r",
      "U�s�B{����\u0007.�]֣ZC�E\u0019�M-\u0000�]��\u000f�YiŃN�tTc� X\u0015\u0018�I��]�\",\u0003�tn�n�G�CiL�a��\u0001�g}�p�5�,|\u0018ޒ�pޱ\u0003,~�Jp��PG\u0012-4�y�;M�ѹ�ə���*���\u0014�j.T\u0010��\u0018�q��LK�x���t㌎g�e\u0003WGҴ\u0012��j&r:�d����l�9S����4��_�Hhv�\u0007�L_<�ߞ'{��Z�9�\u0007\n"
     ]
    }
   ],
   "source": [
    "%%bash\n",
    "# read a few lines of the compressed virus genome (it will look ugly)\n",
    "head -n 2 genomes/virus.fna.gz"
   ]
  },
  {
   "cell_type": "markdown",
   "metadata": {},
   "source": [
    "### `cat / zcat` to read/stream the entire contents of a file\n",
    "\n",
    "\n",
    "Here we are using two tricks: first, the command `zcat` can be used as a replacement for `cat`, the normal command we would use to stream a file to stdout (the output stream). The second trick here is that we are using a `pipe`. As you learned in your linux tutorial, pipes are used to send the output of one program directly into the input of another. Here we pipe the streamed output of `zcat` directly into the program `head`. This way we do not read the entire file into memory at once, which would be too much text for a jupyter notebook to display comfortably, and instead capture only the first N lines to print to stdout. As you can see, now that we are using the `zcat` command to decompress the stream of text it looks like sensible DNA data. "
   ]
  },
  {
   "cell_type": "code",
   "execution_count": 6,
   "metadata": {},
   "outputs": [
    {
     "name": "stdout",
     "output_type": "stream",
     "text": [
      ">NC_037667.1 Pandoravirus quercus, complete genome\n",
      "CCGGTACAGTGAGCGGTTCACGGCCTGGCCACGGTCGACGGAGTGCCGTGCGATGCCATCGGCGACGGCCGCGGCGACGT\n",
      "CGCGGGCATTCGCACGTGCGACCACAGCCGTCAGTGGTACTGGCGGGACGAGGCCGTCGGGGTGACGGACGTCGTCAAGA\n",
      "ACCTGCTCGATGCCATCACACGATGCGCCGAGTACGCGCACGATACCATCAGGGCGCCGTTGGCGAGCAAACCTGACACT\n",
      "GAGATTATGGAGTTCAGCGTCCGTTGCACCCGCCAGGCGGCGGCCGGAGGCGACGACGTCACGGACCCCATGCGCCGCTT\n",
      "GGACGCGAGGCCAGGCGCACGTGGCGCGCCTATCGCATGCACGCGCGCGTGTTCAGCGCCATCGCGTTGCTCGGCGGCGG\n",
      "ACCGCTGAGCATGATGGCGACGGCGGGTCTGCCCTTCTATGACGTGCGCCGGTACGCGCTGGTGGCGGCCCGCTACGACG\n",
      "GCCGCGCCGAACGCGCGTCGAGCCTGCTCCCAACACGCGTGCGACCAGACACCCTTGCGCACGAGGTGATGCGGTGCCGC\n",
      "GGCGATGGGCGTCTTCCGCGGCGCTCAATCGCGCACAGCCTCTTTGCAAGTTGGTTCGAACGCAATTACGCACTGGAGGG\n",
      "CTACGAGGACGCCAGCGGCATCGACGCCGTGTGGTACGACCATCTCGGTCAAGAGGGCACCCACGAGACCGACCGTTGGT\n"
     ]
    }
   ],
   "source": [
    "%%bash\n",
    "# run zcat and PIPE the output into head\n",
    "zcat genomes/virus.fna.gz | head -n 10"
   ]
  },
  {
   "cell_type": "markdown",
   "metadata": {},
   "source": [
    "<div class=\"alert alert-success\">\n",
    "    <b>Action:</b> In the code cell below write and run a bash command like the one above to stream the contents of a genome file using zcat and pipe it into the head command. In your code block, select the *yeast genome file* instead of the virus, and change the -n option of head to print 20 lines instead of 10.  \n",
    "</div>"
   ]
  },
  {
   "cell_type": "code",
   "execution_count": 7,
   "metadata": {},
   "outputs": [],
   "source": [
    "%%bash\n",
    "# write code here to run zcat and PIPE the output into head\n"
   ]
  },
  {
   "cell_type": "markdown",
   "metadata": {},
   "source": [
    "### The fasta format\n",
    "The fasta format is a simple file format used to list contiguous DNA sequences with identifiers. The sequences in a fasta file could be genes, or non-coding regions, or transposable elements, etc., or it could be all of those things ordered as a large contiguous sequence (<span style='color:red;'>a contig</span>). These details are not important for now. Just look at an example below:\n",
    "\n",
    "```\n",
    "> sequence 1 name and other notes about sequence 1\n",
    "AAAAAAAAAAAAAAAAAAATTTTTTTTCCCCCCCCCCCTTTTTTTTTTTTTGGGGGGGGGGG\n",
    "AAAAAAAAAAAAAAAAAAATTTTTTTTCCCCCCCCCCCTTTTTTTTTTTTTGGGGGGGGGGG\n",
    "AAAAAAAAAAAAAAAAAAATTTTTTTTCCCCCCCCCCCTTTTTTTTTTTTTGGGGGGGGGGG\n",
    "AAAAAAAAAAAAAAAAAAATTTTTTTTCCCCCCCCCCCTTTTTTTTTTTTTGGGGGGGGGGG\n",
    "AAAAAAAAAAAAAA\n",
    "> sequence 2 name and other notes about sequence 2\n",
    "AAAAAAAAAAAAAAAAAAATTTTTTTTCCCCCCCCCCCTTTTTTTTTTTTTGGGGGGGGGGG\n",
    "AAAAAAAAAAAAAAAAAAATTTTTTTTCCCCCCCCCCCTTTTTTTTTTTTTGGGGGGGGGGG\n",
    "AAAAAAAAAAAAAAAAAAATTTTTTTTCCCCCCCCCCCTTTTTTTTTTTTTGGGGGGGGGGG\n",
    "AAAAAAAAAAAAAA\n",
    "```\n",
    "\n",
    "In the virus genome file we can see that the name of the first sequence in the file is labeled \"... complete genome\", this is becuase the entire genome of this virus is contained on a single assembled chromosome. By contrast, the other genome files contain several distinct named contigs."
   ]
  },
  {
   "cell_type": "markdown",
   "metadata": {},
   "source": [
    "### Searching text (grep)\n",
    "The names of each sequence in a fasta file begin with the character `>`. When a character is used to separate elements in a file like this we refer to it as a **delimiter**. The `>` character in a fasta file delimits where one sequence stops and the next one begins. \n",
    "\n",
    "Knowing this, we can easily extract the names of all of the sequences in a fasta file by using the command line tool [`grep`](https://www.tutorialspoint.com/unix_commands/grep.htm) to extract lines that match a pattern we are searching for. You can find a quick grep tutorial [here](https://www.tutorialspoint.com/unix_commands/grep.htm) and in many other places online. We will demonstrate some usage below.\n",
    "\n",
    "Let's add an additional pipe (remember, this connects the output from one program to be the input to another) to our command from above to now extract the sequence names in the Yeast genome file as we read/stream though it using the cat command. As you can see, the only lines of the file that are returned are those which matched the `grep` search pattern (i.e., contained a `>` character). "
   ]
  },
  {
   "cell_type": "code",
   "execution_count": 8,
   "metadata": {
    "scrolled": true
   },
   "outputs": [
    {
     "name": "stdout",
     "output_type": "stream",
     "text": [
      ">NC_001133.9 Saccharomyces cerevisiae S288C chromosome I, complete sequence\n",
      ">NC_001134.8 Saccharomyces cerevisiae S288C chromosome II, complete sequence\n",
      ">NC_001135.5 Saccharomyces cerevisiae S288C chromosome III, complete sequence\n",
      ">NC_001136.10 Saccharomyces cerevisiae S288C chromosome IV, complete sequence\n",
      ">NC_001137.3 Saccharomyces cerevisiae S288C chromosome V, complete sequence\n",
      ">NC_001138.5 Saccharomyces cerevisiae S288C chromosome VI, complete sequence\n",
      ">NC_001139.9 Saccharomyces cerevisiae S288C chromosome VII, complete sequence\n",
      ">NC_001140.6 Saccharomyces cerevisiae S288C chromosome VIII, complete sequence\n",
      ">NC_001141.2 Saccharomyces cerevisiae S288C chromosome IX, complete sequence\n",
      ">NC_001142.9 Saccharomyces cerevisiae S288C chromosome X, complete sequence\n",
      ">NC_001143.9 Saccharomyces cerevisiae S288C chromosome XI, complete sequence\n",
      ">NC_001144.5 Saccharomyces cerevisiae S288C chromosome XII, complete sequence\n",
      ">NC_001145.3 Saccharomyces cerevisiae S288C chromosome XIII, complete sequence\n",
      ">NC_001146.8 Saccharomyces cerevisiae S288C chromosome XIV, complete sequence\n",
      ">NC_001147.6 Saccharomyces cerevisiae S288C chromosome XV, complete sequence\n",
      ">NC_001148.4 Saccharomyces cerevisiae S288C chromosome XVI, complete sequence\n",
      ">NC_001224.1 Saccharomyces cerevisiae S288c mitochondrion, complete genome\n"
     ]
    }
   ],
   "source": [
    "%%bash\n",
    "# pipe zcat output to grep\n",
    "zcat genomes/yeast.fna.gz | grep \">\""
   ]
  },
  {
   "cell_type": "markdown",
   "metadata": {},
   "source": [
    "### Sequence names/labels\n",
    "\n",
    "We can see from above that all of the sequences in the Yeast genome are complete chromosomes. This is not always the case, though. Below we run a `grep` search to get all lines of the Chicken genome file that contain \"chromosome 1\" in their names. As you can see, there are many scaffolds that match our search term, meaning there are many scaffolds in this assembly that are thought to be located *somewhere* on chromosome 1. "
   ]
  },
  {
   "cell_type": "code",
   "execution_count": 9,
   "metadata": {},
   "outputs": [
    {
     "name": "stdout",
     "output_type": "stream",
     "text": [
      ">NC_006088.5 Gallus gallus breed Red Jungle Fowl isolate RJF #256 chromosome 1, GRCg6a\n",
      ">NW_020109737.1 Gallus gallus breed Red Jungle Fowl isolate RJF #256 chromosome 1 unlocalized genomic scaffold, GRCg6a CHR1_134_RANDOM\n",
      ">NW_020109738.1 Gallus gallus breed Red Jungle Fowl isolate RJF #256 chromosome 1 unlocalized genomic scaffold, GRCg6a CHR1_360_RANDOM\n",
      ">NW_020109739.1 Gallus gallus breed Red Jungle Fowl isolate RJF #256 chromosome 1 unlocalized genomic scaffold, GRCg6a CHR1_123_RANDOM\n",
      ">NW_020109740.1 Gallus gallus breed Red Jungle Fowl isolate RJF #256 chromosome 1 unlocalized genomic scaffold, GRCg6a CHR1_132_RANDOM\n",
      ">NW_020109741.1 Gallus gallus breed Red Jungle Fowl isolate RJF #256 chromosome 1 unlocalized genomic scaffold, GRCg6a CHR1_330_RANDOM\n",
      ">NW_020109742.1 Gallus gallus breed Red Jungle Fowl isolate RJF #256 chromosome 1 unlocalized genomic scaffold, GRCg6a CHR1_247_RANDOM\n",
      ">NW_020109743.1 Gallus gallus breed Red Jungle Fowl isolate RJF #256 chromosome 1 unlocalized genomic scaffold, GRCg6a CHR1_347_RANDOM\n",
      ">NC_006097.5 Gallus gallus breed Red Jungle Fowl isolate RJF #256 chromosome 10, GRCg6a\n",
      ">NC_006098.5 Gallus gallus breed Red Jungle Fowl isolate RJF #256 chromosome 11, GRCg6a\n"
     ]
    }
   ],
   "source": [
    "%%bash\n",
    "zcat genomes/chicken.fna.gz | grep \"chromosome 1\" | head -n 10"
   ]
  },
  {
   "cell_type": "markdown",
   "metadata": {},
   "source": [
    "----------------------------------"
   ]
  },
  {
   "cell_type": "markdown",
   "metadata": {},
   "source": [
    "### Genome structure: mitochondrial genomes\n",
    "We can use `grep` to match lines of a file in order to answer basic questions about its contents. For example, we can search for the term \"mitochond\" in each genome to see if there is a sequence that is labeled as being from a mitochondrian. Here we can see that two genomes have a mitochondrian (yeast and chicken) while the virus does not."
   ]
  },
  {
   "cell_type": "code",
   "execution_count": 10,
   "metadata": {},
   "outputs": [
    {
     "name": "stdout",
     "output_type": "stream",
     "text": [
      ">NC_001224.1 Saccharomyces cerevisiae S288c mitochondrion, complete genome\n",
      ">NC_040902.1 Gallus gallus spadiceus isolate YP19903 breed Red jungle fowl mitochondrion, complete genome\n"
     ]
    }
   ],
   "source": [
    "%%bash\n",
    "\n",
    "zcat genomes/virus.fna.gz | grep mitochond\n",
    "zcat genomes/yeast.fna.gz | grep mitochond\n",
    "zcat genomes/chicken.fna.gz | grep mitochond\n"
   ]
  },
  {
   "cell_type": "markdown",
   "metadata": {},
   "source": [
    "-----------------------------"
   ]
  },
  {
   "cell_type": "markdown",
   "metadata": {},
   "source": [
    "### How large is each genome?\n",
    "Because genome files are composed simply of text, we can use simple text operations to answer interesting biological questions, such as \"how big is the genome?\". Here we stream the decompressed text from the file using `zcat` and them use the `wc` command to count the number of characters in each file."
   ]
  },
  {
   "cell_type": "code",
   "execution_count": 11,
   "metadata": {},
   "outputs": [
    {
     "name": "stdout",
     "output_type": "stream",
     "text": [
      "2103306\n",
      "12310392\n",
      "1078736272\n"
     ]
    }
   ],
   "source": [
    "%%bash\n",
    "# count characters in each file\n",
    "zcat genomes/virus.fna.gz | wc -m \n",
    "zcat genomes/yeast.fna.gz | wc -m\n",
    "zcat genomes/chicken.fna.gz | wc -m"
   ]
  },
  {
   "cell_type": "markdown",
   "metadata": {},
   "source": [
    "We can do this even more accurately by excluding the lines that contain the names of each contig by using `grep` to filter these lines (exclude them by using option `-v`). "
   ]
  },
  {
   "cell_type": "code",
   "execution_count": 12,
   "metadata": {},
   "outputs": [
    {
     "name": "stdout",
     "output_type": "stream",
     "text": [
      "2103255\n",
      "12309078\n",
      "1078682731\n"
     ]
    }
   ],
   "source": [
    "%%bash\n",
    "# more accurately, we should exclude seq name lines using grep (line starting with '>')\n",
    "zcat genomes/virus.fna.gz | grep -v '^>' | wc -m \n",
    "zcat genomes/yeast.fna.gz | grep -v '^>' | wc -m\n",
    "zcat genomes/chicken.fna.gz | grep -v '^>' | wc -m"
   ]
  },
  {
   "cell_type": "markdown",
   "metadata": {},
   "source": [
    "-----------------------------------"
   ]
  },
  {
   "cell_type": "markdown",
   "metadata": {},
   "source": [
    "<div class=\"alert alert-success\">\n",
    "    <b>Action:</b> \n",
    "    Congratulations, you have completed the notebook. You do not need to upload anything for assessment.\n",
    "</div>\n"
   ]
  }
 ],
 "metadata": {
  "kernelspec": {
   "display_name": "Python 3",
   "language": "python",
   "name": "python3"
  },
  "language_info": {
   "codemirror_mode": {
    "name": "ipython",
    "version": 3
   },
   "file_extension": ".py",
   "mimetype": "text/x-python",
   "name": "python",
   "nbconvert_exporter": "python",
   "pygments_lexer": "ipython3",
   "version": "3.8.6"
  }
 },
 "nbformat": 4,
 "nbformat_minor": 2
}
